{
 "cells": [
  {
   "cell_type": "markdown",
   "metadata": {},
   "source": [
    "# Recommendations with IBM\n",
    "\n",
    "In this notebook, you will be putting your recommendation skills to use on real data from the IBM Watson Studio platform. \n",
    "\n",
    "\n",
    "You may either submit your notebook through the workspace here, or you may work from your local machine and submit through the next page.  Either way assure that your code passes the project [RUBRIC](https://review.udacity.com/#!/rubrics/2322/view).  **Please save regularly.**\n",
    "\n",
    "By following the table of contents, you will build out a number of different methods for making recommendations that can be used for different situations. \n",
    "\n",
    "\n",
    "## Table of Contents\n",
    "\n",
    "I. [Exploratory Data Analysis](#Exploratory-Data-Analysis)<br>\n",
    "II. [Rank Based Recommendations](#Rank)<br>\n",
    "III. [User-User Based Collaborative Filtering](#User-User)<br>\n",
    "IV. [Content Based Recommendations (EXTRA - NOT REQUIRED)](#Content-Recs)<br>\n",
    "V. [Matrix Factorization](#Matrix-Fact)<br>\n",
    "VI. [Extras & Concluding](#conclusions)\n",
    "\n",
    "At the end of the notebook, you will find directions for how to submit your work.  Let's get started by importing the necessary libraries and reading in the data."
   ]
  },
  {
   "cell_type": "code",
   "execution_count": 1,
   "metadata": {},
   "outputs": [
    {
     "data": {
      "text/html": [
       "<div>\n",
       "<style scoped>\n",
       "    .dataframe tbody tr th:only-of-type {\n",
       "        vertical-align: middle;\n",
       "    }\n",
       "\n",
       "    .dataframe tbody tr th {\n",
       "        vertical-align: top;\n",
       "    }\n",
       "\n",
       "    .dataframe thead th {\n",
       "        text-align: right;\n",
       "    }\n",
       "</style>\n",
       "<table border=\"1\" class=\"dataframe\">\n",
       "  <thead>\n",
       "    <tr style=\"text-align: right;\">\n",
       "      <th></th>\n",
       "      <th>Unnamed: 0</th>\n",
       "      <th>article_id</th>\n",
       "      <th>title</th>\n",
       "      <th>email</th>\n",
       "    </tr>\n",
       "  </thead>\n",
       "  <tbody>\n",
       "    <tr>\n",
       "      <th>0</th>\n",
       "      <td>0</td>\n",
       "      <td>1430.0</td>\n",
       "      <td>using pixiedust for fast, flexible, and easier...</td>\n",
       "      <td>ef5f11f77ba020cd36e1105a00ab868bbdbf7fe7</td>\n",
       "    </tr>\n",
       "    <tr>\n",
       "      <th>1</th>\n",
       "      <td>1</td>\n",
       "      <td>1314.0</td>\n",
       "      <td>healthcare python streaming application demo</td>\n",
       "      <td>083cbdfa93c8444beaa4c5f5e0f5f9198e4f9e0b</td>\n",
       "    </tr>\n",
       "    <tr>\n",
       "      <th>2</th>\n",
       "      <td>2</td>\n",
       "      <td>1429.0</td>\n",
       "      <td>use deep learning for image classification</td>\n",
       "      <td>b96a4f2e92d8572034b1e9b28f9ac673765cd074</td>\n",
       "    </tr>\n",
       "    <tr>\n",
       "      <th>3</th>\n",
       "      <td>3</td>\n",
       "      <td>1338.0</td>\n",
       "      <td>ml optimization using cognitive assistant</td>\n",
       "      <td>06485706b34a5c9bf2a0ecdac41daf7e7654ceb7</td>\n",
       "    </tr>\n",
       "    <tr>\n",
       "      <th>4</th>\n",
       "      <td>4</td>\n",
       "      <td>1276.0</td>\n",
       "      <td>deploy your python model as a restful api</td>\n",
       "      <td>f01220c46fc92c6e6b161b1849de11faacd7ccb2</td>\n",
       "    </tr>\n",
       "  </tbody>\n",
       "</table>\n",
       "</div>"
      ],
      "text/plain": [
       "   Unnamed: 0  article_id                                              title  \\\n",
       "0           0      1430.0  using pixiedust for fast, flexible, and easier...   \n",
       "1           1      1314.0       healthcare python streaming application demo   \n",
       "2           2      1429.0         use deep learning for image classification   \n",
       "3           3      1338.0          ml optimization using cognitive assistant   \n",
       "4           4      1276.0          deploy your python model as a restful api   \n",
       "\n",
       "                                      email  \n",
       "0  ef5f11f77ba020cd36e1105a00ab868bbdbf7fe7  \n",
       "1  083cbdfa93c8444beaa4c5f5e0f5f9198e4f9e0b  \n",
       "2  b96a4f2e92d8572034b1e9b28f9ac673765cd074  \n",
       "3  06485706b34a5c9bf2a0ecdac41daf7e7654ceb7  \n",
       "4  f01220c46fc92c6e6b161b1849de11faacd7ccb2  "
      ]
     },
     "execution_count": 1,
     "metadata": {},
     "output_type": "execute_result"
    }
   ],
   "source": [
    "import pandas as pd\n",
    "import numpy as np\n",
    "import matplotlib.pyplot as plt\n",
    "import project_tests as t\n",
    "import pickle\n",
    "\n",
    "%matplotlib inline\n",
    "\n",
    "df = pd.read_csv('data/user-item-interactions.csv')\n",
    "df_content = pd.read_csv('data/articles_community.csv')\n",
    "\n",
    "# Show df to get an idea of the data\n",
    "df.head()"
   ]
  },
  {
   "cell_type": "code",
   "execution_count": 2,
   "metadata": {},
   "outputs": [
    {
     "data": {
      "text/plain": [
       "45993"
      ]
     },
     "execution_count": 2,
     "metadata": {},
     "output_type": "execute_result"
    }
   ],
   "source": [
    "# number of rows in df \n",
    "df.shape[0]"
   ]
  },
  {
   "cell_type": "code",
   "execution_count": 3,
   "metadata": {},
   "outputs": [
    {
     "data": {
      "text/html": [
       "<div>\n",
       "<style scoped>\n",
       "    .dataframe tbody tr th:only-of-type {\n",
       "        vertical-align: middle;\n",
       "    }\n",
       "\n",
       "    .dataframe tbody tr th {\n",
       "        vertical-align: top;\n",
       "    }\n",
       "\n",
       "    .dataframe thead th {\n",
       "        text-align: right;\n",
       "    }\n",
       "</style>\n",
       "<table border=\"1\" class=\"dataframe\">\n",
       "  <thead>\n",
       "    <tr style=\"text-align: right;\">\n",
       "      <th></th>\n",
       "      <th>Unnamed: 0</th>\n",
       "      <th>doc_body</th>\n",
       "      <th>doc_description</th>\n",
       "      <th>doc_full_name</th>\n",
       "      <th>doc_status</th>\n",
       "      <th>article_id</th>\n",
       "    </tr>\n",
       "  </thead>\n",
       "  <tbody>\n",
       "    <tr>\n",
       "      <th>0</th>\n",
       "      <td>3</td>\n",
       "      <td>Skip navigation Sign in SearchLoading...\\r\\n\\r...</td>\n",
       "      <td>Detect bad readings in real time using Python ...</td>\n",
       "      <td>Detect Malfunctioning IoT Sensors with Streami...</td>\n",
       "      <td>Live</td>\n",
       "      <td>0</td>\n",
       "    </tr>\n",
       "    <tr>\n",
       "      <th>1</th>\n",
       "      <td>5</td>\n",
       "      <td>No Free Hunch Navigation * kaggle.com\\r\\n\\r\\n ...</td>\n",
       "      <td>See the forest, see the trees. Here lies the c...</td>\n",
       "      <td>Communicating data science: A guide to present...</td>\n",
       "      <td>Live</td>\n",
       "      <td>1</td>\n",
       "    </tr>\n",
       "    <tr>\n",
       "      <th>2</th>\n",
       "      <td>7</td>\n",
       "      <td>☰ * Login\\r\\n * Sign Up\\r\\n\\r\\n * Learning Pat...</td>\n",
       "      <td>Here’s this week’s news in Data Science and Bi...</td>\n",
       "      <td>This Week in Data Science (April 18, 2017)</td>\n",
       "      <td>Live</td>\n",
       "      <td>2</td>\n",
       "    </tr>\n",
       "    <tr>\n",
       "      <th>3</th>\n",
       "      <td>8</td>\n",
       "      <td>DATALAYER: HIGH THROUGHPUT, LOW LATENCY AT SCA...</td>\n",
       "      <td>Learn how distributed DBs solve the problem of...</td>\n",
       "      <td>DataLayer Conference: Boost the performance of...</td>\n",
       "      <td>Live</td>\n",
       "      <td>3</td>\n",
       "    </tr>\n",
       "    <tr>\n",
       "      <th>4</th>\n",
       "      <td>12</td>\n",
       "      <td>Skip navigation Sign in SearchLoading...\\r\\n\\r...</td>\n",
       "      <td>This video demonstrates the power of IBM DataS...</td>\n",
       "      <td>Analyze NY Restaurant data using Spark in DSX</td>\n",
       "      <td>Live</td>\n",
       "      <td>4</td>\n",
       "    </tr>\n",
       "  </tbody>\n",
       "</table>\n",
       "</div>"
      ],
      "text/plain": [
       "   Unnamed: 0                                           doc_body  \\\n",
       "0           3  Skip navigation Sign in SearchLoading...\\r\\n\\r...   \n",
       "1           5  No Free Hunch Navigation * kaggle.com\\r\\n\\r\\n ...   \n",
       "2           7  ☰ * Login\\r\\n * Sign Up\\r\\n\\r\\n * Learning Pat...   \n",
       "3           8  DATALAYER: HIGH THROUGHPUT, LOW LATENCY AT SCA...   \n",
       "4          12  Skip navigation Sign in SearchLoading...\\r\\n\\r...   \n",
       "\n",
       "                                     doc_description  \\\n",
       "0  Detect bad readings in real time using Python ...   \n",
       "1  See the forest, see the trees. Here lies the c...   \n",
       "2  Here’s this week’s news in Data Science and Bi...   \n",
       "3  Learn how distributed DBs solve the problem of...   \n",
       "4  This video demonstrates the power of IBM DataS...   \n",
       "\n",
       "                                       doc_full_name doc_status  article_id  \n",
       "0  Detect Malfunctioning IoT Sensors with Streami...       Live           0  \n",
       "1  Communicating data science: A guide to present...       Live           1  \n",
       "2         This Week in Data Science (April 18, 2017)       Live           2  \n",
       "3  DataLayer Conference: Boost the performance of...       Live           3  \n",
       "4      Analyze NY Restaurant data using Spark in DSX       Live           4  "
      ]
     },
     "execution_count": 3,
     "metadata": {},
     "output_type": "execute_result"
    }
   ],
   "source": [
    "# Show df_content to get an idea of the data\n",
    "df_content.head()"
   ]
  },
  {
   "cell_type": "code",
   "execution_count": 4,
   "metadata": {},
   "outputs": [
    {
     "data": {
      "text/plain": [
       "1056"
      ]
     },
     "execution_count": 4,
     "metadata": {},
     "output_type": "execute_result"
    }
   ],
   "source": [
    "# number of rows in df_content \n",
    "df_content.shape[0]"
   ]
  },
  {
   "cell_type": "code",
   "execution_count": 5,
   "metadata": {},
   "outputs": [],
   "source": [
    "# delete features not needed for this project \n",
    "del df['Unnamed: 0']\n",
    "del df_content['Unnamed: 0']"
   ]
  },
  {
   "cell_type": "code",
   "execution_count": 6,
   "metadata": {},
   "outputs": [
    {
     "name": "stdout",
     "output_type": "stream",
     "text": [
      "OFFLINE-FIRST IOS APPS WITH SWIFT & PART 1: THE DATASTOREJason H. Smith / January 25, 2016This walk-through is a sequel to Apple’s well-known iOS programmingintroduction, Start Developing iOS Apps (Swift) . Apple’s introduction walks us through the process of building the UI, data,and logic of an example food tracker app, culminating with a section on datapersistence: storing the app data as files in the iOS device.This series picks up where that document leaves off: syncing data betweendevices, through the cloud, with an offline-first design. You will achieve thisusing open source tools and the free IBM Cloudant service.This document is the first in the series, showing you how to use the CloudantSync datastore, CDTDatastore , for FoodTracker on the iOS device. Subsequent posts will cover syncing to thecloud and other advanced features such as accounts and data management.TABLE OF CONTENTS 1. Getting Started 2. CocoaPods 1. Learning Objectives     2. Install CocoaPods on your Mac     3. Install Cloudant Sync using CocoaPods     4. Change from a Project to a Workspace         3. Compile with Cloudant Sync 1. Learning Objectives     2. Create the CDTDatastore Bridging Header     3. Check the Build         4. Store Data Locally with Cloudant Sync 1. Offline First     2. Learning Objectives     3. The Cloudant Document Model     4. Design Plan     5. Remove NSCoding     6. Initialize the Cloudant Sync Datastore     7. Side Note: Deleting the Datastore in the iOS Simulator     8. Implement Storing and Querying Meals     9. Create Sample Meals in the Datastore         5. Conclusion 6. Download This ProjectGETTING STARTEDThe FoodTracker main screenThese lessons assume that you have completed the FoodTracker app from Apple’s walk-through. First, complete that walk-through. It will teach youthe process of beginning an iOS app and it will end with the chapter, Persist Data . Download the sample project from the final lesson (the “Download File” linkat the bottom of the page).Extract the zip file, Start-Dev-iOS-Apps-10.zip , browse into its folder with Finder, and double-click FoodTracker.xcodeproj . That will open the project in Xcode. Run the app (Command-R) and confirm thatit works correctly. If everything is in order, proceed with this document.COCOAPODSThe first step is to install CocoaPods which will allow you to quickly and easily use open source packages in your iOSapps. You will use the CocoaPods repository to integrate the Cloudant Sync Datastore library, called CDTDatastore .LEARNING OBJECTIVESAt the end of the lesson, you’ll be able to: 1. Install CocoaPods on your Mac 2. Use CocoaPods to download and integrate CDTDatastore with FoodTrackerINSTALL COCOAPODS ON YOUR MACThe CocoaPods web site has an excellent page, Getting Started , which covers installing and upgrading. For your purposes, you will use themost simple approach to installation, the command-line gem program.To install CocoaPods 1. Open the Terminal application 1. Click the Spotlight icon (a magnifying glass) in the Mac OS task bar     2. Type “terminal” in the Spotlight prompt, and press return         2. In Terminal, type this command:gem install cocoapods            Note , if you receive an error message and the CocoaPods gem does not install,    try this instead:        sudo gem install cocoapods             3. Confirm that CocoaPods is installed with this command:        pod --version            You should see the CocoaPods version displayed in Terminal:        0.39.0            INSTALL CLOUDANT SYNC USING COCOAPODSTo install CDTDatastore as a dependency, create a Podfile , a simple configuration files which tell CocoaPods which packages this projectneeds.To create a Podfile 1. Choose File > New > File… (or press Command-N) 2. On the left side of the dialog that appears, under “iOS”, select Other. 3. Select Empty, and click Next. 4. In the Save As field, type Podfile . 5. The save location (“Where”) defaults to your project directory.The Group option defaults to your app name, FoodTracker.        In the Targets section, make sure both your app and the tests for your app    are not selected.         6. Click Create. Xcode will create a file called Podfile which is open in the Xcode editor.Next, configure CDTDatastore in the Podfile.To configure the Podfile 1. In Podfile , add the following codeplatform :ios, '9.1'    pod \"CDTDatastore\", '~> 1.0.0'         2. Choose File > Save (or press Command-S)With your Podfile in place, you can now use CocoaPods to install theCDTDatastore pod.To install CDTDatastore 1. Open Terminal 2. Change to your project directory, the directory containing your new Podfile.    For example,# Your 'cd' change to the folder you use.    cd \"FoodTracker - Persist Data\"             3. Type this command. Note, *this may take a few minutes to complete .        pod install --verbose            You will see colorful output from CocoaPods in the terminal.CHANGE FROM A PROJECT TO A WORKSPACEBecause you are now integrating FoodTracker with the third-party CDTDatastorelibrary, your project is now a group of projects combined into one useful whole. XCode supports this, and CocoaPodshas already prepared you for this transition by creating FoodTracker.xcworkspace for you—a workspace encompassing both FoodTracker and CDTDatastore.To change to your project workspace 1. Choose File > Close Window (or press Command-W). 2. Choose File > Open (or press Command-O). 3. Select FoodTracker.xcworkspace and click Open.You will see a similar XCode view as before, but notice that you now have twoprojects now.Note , when you build or run the app, you may see compiler warnings fromCDTDatastore code and its dependencies. You can safely ignore these warnings.Checkpoint: Run your app. The app should behave exactly as before. Now you know that everything is in itsplace and working correctly.COMPILE WITH CLOUDANT SYNCYour next step is to compile FoodTracker along with CDTDatastore . You will not change any major FoodTracker code yet; however, this willconfirm that CDTDatastore and FoodTracker integrate and compile correctly.LEARNING OBJECTIVESAt the end of the lesson, you’ll be able to create a bridging header to link Swift and Objective-C code.CREATE THE CDTDATASTORE BRIDGING HEADERCDTDatastore is written in Objective-C. FoodTracker is a Swift project.Currently, the best way to integrate these projects together is with a bridging header . The bridging header, CloudantSync-Bridging-Header.h , will tell Xcode to compile CDTDatastore into the final app.To create a header file 1.  Choose File > New > File (or press Command-N) 2.  On the left side of the dialog that appears, under “iOS”, select Source. 3.  Select Header File, and click Next. 4.  In the Save As field, type CloudantSync-Bridging-Header . 5.  Click the down-arrow expander button to the right of the “Save As” field.     This will display the file system tree of the project. 6.  Click the FoodTracker folder. 7.  Confirm that the Group option defaults to your app name, FoodTracker. 8.  In the Targets section, check the FoodTracker target. 9.  Click Create. Xcode will create and open a file called CloudantSync-Bridging-Header.h . 10. Under the line which says #define CloudantSync_Bridging_Header_h , insert the following code:#import <CloudantSync.h>           11. Choose File > Save (or press Command-S)The header file contents are done. But, despite its name, this file is not yet a bridging header as far as Xcode knows. The final step is to tell Xcode that this file willserve as the Objective-C bridging header.To assign a project bridging header 1. Enter the Project Navigator view by clicking the upper-left folder icon (or    press Command-1). 2. Select the FoodTracker project in the Navigator. 3. Under Project, select the FoodTracker project. (It has a blue icon). 4. Click “Build Settings”. 5. Click All to show all build settings 6. In the search bar, type “bridging header.” You should see Swift Compiler – Code Generation and inside it, Objective-C Bridging Header .         7. Double-click the empty space in the “FoodTracker” column, in the row    “Objective-C Bridging Header”. 8. A prompt window will pop up. Input the following:        FoodTracker/CloudantSync-Bridging-Header.h                     9. Press returnYour bridging header is done! Xcode should look like this:CHECK THE BUILDCheckpoint: Run your app. This will confirm that the code compiles and runs. While you have not changedany user-facing app code, you have begun the first step to Cloudant Sync bycompiling CDTDatastore into your project.STORE DATA LOCALLY WITH CLOUDANT SYNCWith CDTDatastore compiled and connected to FoodTracker, the next step is toreplace the NSCoder persistence system with CDTDatastore. Currently, in MealTableViewController.swift , during initialization, the encoded array of meals is loaded from localstorage. When you add or change a meal, the entire meals array is encoded and stored on disk.You will replace that system with a document-based architecture—in other words,each meal will be one record (called a “document” or simply “doc”) in theCloudant Sync datastore.Keep in mind, this first step of using Cloudant Sync does not use the Internet at all . The first goal is simply to store app data locally, in CDTDatastore. Afterthat works correctly, you will add the ability to sync with Cloudant.OFFLINE FIRSTThis is the offline-first architecture , with Internet access being optional to use the app. All data operations areon the local device. If the device has an Internet connection, then the app willsync its data with Cloudant—covered in future posts in this series.LEARNING OBJECTIVESAt the end of the lesson, you’ll be able to: 1. Understand the Cloudant document model: 1. Key-value storage for simple data types     2. Attachment storage for binary data     3. The document ID and revision ID         2. Store meals in the Cloudant Sync datastore 3. Query for meals in chronological order, from the datastoreTHE CLOUDANT DOCUMENT MODELLet’s begin with a discussion of Cloudant basics. The document is the primary data model of the Cloudant database, not only CDTDatastore foriOS, but also for Android, the Cloudant hosted database, and even the opensource Apache CouchDB database.A document, often called a doc , is a set of key-value data. Do not think, “Microsoft Office document”; think“JSON object.” A document is a JSON object: keys (strings) can have values:Ints, Doubles, Bools, Strings, as well as nested Arrays and Dictionaries.Documents can also contain binary blobs, called attachments . You can add, change, or remove attachments in a very similar way as you wouldadd, change, or remove key-value data in a doc.All documents always have two pieces of metadata used to manage them. The document ID (sometimes called _id or simply id ) is a unique string identifying the doc. You use the ID to read, and write aspecific document. When you create a document, you may omit the _id value, in which case Cloudant will automatically generate a unique ID for thedocument.The revision ID (sometimes called _rev or revision ) is a string generated by the datastore which tracks when the doc changes. Therevision ID is mostly used internally by the datastore, especially to facilitatereplication. In practice, you need to remember the basics about revisions : * The revision ID changes every time you update a document. * When you update a document, you provide the current revision ID to the   datastore, and the datastore will return to you the new revision ID of the new document. * When you create a document, you do not provide a revision ID, since there is no such “current” document.Finally, note that deleting a document is actually an update, with metadata setto indicate deletion, called a tombstone . Since a delete is an update just like any other, the deleted document willhave its own revision ID. The tombstones are necessary for replication:replicating a tombstone from one database to another will cause doc to bedeleted in both databases. As far as your app is concerned, it can consider thedocument deleted).DESIGN PLANWith this in mind, consider: how will the sample meals that are pre-loaded intothe app work? At first, you might think to create meal documents whenFoodTracker starts. That will work correctly the first time the user runs theapp; however, if the user changes or deletes the sample meals, those changes must persist . For example, if the user deletes the sample meals and then restarts the applater, those meals must remain deleted.To support this requirement, you will use document tombstones . This will be the basic design: * Each meal will be represented by a single document. User-created meals will   have an automatically-generated document ID; but sample meals will have   hard-coded document IDs: “meal1”, “meal2”, and “meal3”.// An example meal document:   {       \"_id\": \"meal1\",       \"name\": \"Caprese Salad\",       \"rating\": 4,       \"created_at\": \"2016-01-03T02:15:49.727Z\"   }          * Sample meals have a hard-coded docId . Just before creating a sample meal, first try to fetch the meal by ID. * If CDTDatastore returns a meal doc, that means it has already been      created. Do nothing .    * If CDTDatastore returns a \"not_found\" error, that means the meal has never been created. Proceed with doc creation .    * If CDTDatastore returns a different error, that means the meal has been      created and then deleted. Do nothing .      Now, you can put this understanding into practice by transitioning to CloudantSync for local app data storage.REMOVE NSCODINGBegin cleanly by removing the current NSCoding system from the model and thetable view controller.To remove NSCoding from the model 1. Open Meal.swift 2. Find the class declaration, which saysclassMeal: NSObject, NSCoding{             3. Remove the word NSCoding and also the comma before it, making the new class declaration look like    this:        classMeal: NSObject{             4. Delete the comment line, // MARK: NSCoding . 5. Delete the method below that, encodeWithCoder(_:) . 6. Delete the method below that, init?(_:) .Next, remove NSCoding from the table view controller.To remove NSCoding from the table view controller 1. Open MealTableViewController.swift 2. Find the method viewDidLoad() , and delete the comment beginning // Load any saved meals and also the if/else code below it:// Load any saved meals, otherwise load sample data.iflet savedMeals = loadMeals() {        meals += savedMeals    } else {        // Load the sample data.        loadSampleMeals()    }             3. Delete the method loadSampleMeals() , which is immediately beneath the viewDidLoad() method. 4. Find the method tableView(_:commitEditingStyle:forRowAtIndexPath:) and delete the line of code saveMeals() . 5. Find the method unwindToMealList(_:) and delete its last two lines of code: a comment, and a call to saveMeals() .        // Save the meals.    saveMeals()             6. Delete the comment line, // MARK: NSCoding 7. Delete the method below that, saveMeals() . 8. Delete the method below that, loadMeals() .Checkpoint: Run your app. The app will obviously lose some functionality: loading stored meals, andcreating the first three sample meals; although you can still create, edit, andremove meals (but they will not persist if you quit the app). That is okay. Inthe next step, you will restore these functions using Cloudant Sync instead.INITIALIZE THE CLOUDANT SYNC DATASTORENow you will add loading and saving back to the app, using the Cloudant Syncdatastore. A meal will be a document, with its name and rating stored askey-value data, and its photo stored as an attachment. Additionally, you willstore a creation timestamp, so that you can later sort the meals in the orderthey were created.Begin with the Meal model, the file Meal.swift . You will add a new initialization method which can create a Meal object froma document. In other words, the init() method will set the meal name and rating from the document key-value data; andit will set the meal photo from the document attachment.Representing a Meal as a Cloudant document requires few changes besides theinitialization function. The only change to the the actual model is to addvariables for the underlying document ID, and the creation time. By rememberinga meal’s document ID, you will be able to change that doc when the user changesthe meal (e.g. by changing its rating, its name, or its photo). And by storingits creation time, you can later query the database for meals in the order thatthe user created them.To add Cloudant Sync datastore support 1. Open Meal.swift 2. In Meal.swift , in the section MARK: Properties , append these lines so that the variable declarations look like this:// MARK: Propertiesvar name: Stringvar photo: UIImage?    var rating: Int// Data for Cloudant Syncvar docId: String?    var createdAt: NSDate         3. In Meal.swift , edit the init?(_:photo:rating:) method to accept docId as a final argument, and to set the docId and createdAt properties . When you are finished, the method will look like this:        init?(name: String, photo: UIImage?, rating: Int, docId: String?) {        // Initialize stored properties.self.name = name        self.photo = photo        self.rating = rating        self.docId = docId        self.createdAt = NSDate()            super.init()            // Initialization should fail if there is no name or if the// rating is negative.if name.isEmpty || rating < 0 {            returnnil        }    }            Now add a convenience initializer. This initializer will use a givenCDTDatastore document to create a Meal object.To create a convenience initializer 1. Open Meal.swift 2. In Meal.swift, below the method init?(_:photo:rating:docId:) , add the following code:requiredconvenienceinit?(aDoc doc:CDTDocumentRevision) {        iflet body = doc.body {            let name = body[\"name\"] as! Stringlet rating = body[\"rating\"] as! Intvar photo: UIImage? = niliflet photoAttachment = doc.attachments[\"photo.jpg\"] {                photo = UIImage(                  data: photoAttachment.dataFromAttachmentContent())            }                self.init(name:name, photo:photo, rating:rating,                      docId:doc.docId)        } else {            print(\"Error initializing meal from document: \\(doc)\")            returnnil        }    }            That’s it for the model. The Meal class now tracks its underlying document IDand creation time; and it supports convenient initialization directly from ameal document.Since the Meal model initializer has a new docId: String? parameter, you will need to update the one bit of code which initializes Mealobjects, in the Meal view controller.To update the meal view controller 1. Open MealViewController.swift 2. In MealViewController.swift , find the function prepareForSegue(_:sender:) and change the last section of code to (dd , docId: docId ):// Set the meal to be passed to MealTableViewController after the// unwind segue.let docId = meal?.docId    meal = Meal(name: name, photo: photo, rating: rating, docId: docId)            Now the model has been updated to work from Cloudant Sync documents.Checkpoint: Run your app. The app should build successfully. This will confirm that all changes areworking together harmoniously. Of course, the app behavior is obviouslyincomplete, which you will correct in the next steps.All that remains is to use the datastore from the Meal table view controller.Begin by initializing the datastore and data.To initialize the datastore 1. Open MealTableViewController.swift 2. In MealTableViewController.swift , in the section MARK: Properties , append these lines so that the variable declarations look like this:// MARK: Propertiesvar meals = [Meal]()    var datastoreManager: CDTDatastoreManager?    var datastore: CDTDatastore?             3. In MealTableViewController.swift , append the following code at the end of the method viewDidLoad() :        // Initialize the Cloudant Sync local datastore.    initDatastore()            Now write the initialization function. Begin by creating a code marker for thenew Cloudant Sync datastore methods.To create a code marker for your code 1. Open MealTableViewController.swift 2. In MealTableViewController.swift , find the last method in the class, unwindToMealList(_:) 3. Below that method, add the following:// MARK: Datastore        This will be the section of the code where you implement all Cloudant Syncdatastore functionality.To implement datastore initialization , in MealTableViewController.swift , append the following code in the section MARK: Datastore :funcinitDatastore() {    let fileManager = NSFileManager.defaultManager()    let documentsDir = fileManager.URLsForDirectory(.DocumentDirectory,        inDomains: .UserDomainMask).last!    let storeURL = documentsDir.URLByAppendingPathComponent(\"foodtracker-meals\")    let path = storeURL.path    do {        datastoreManager = tryCDTDatastoreManager(directory: path)        datastore = try datastoreManager!.datastoreNamed(\"meals\")    } catch {        fatalError(\"Failed to initialize datastore: \\(error)\")    }}SIDE NOTE: DELETING THE DATASTORE IN THE IOS SIMULATORSometimes during development, you may want to delete the datastore and startover. There are several ways to do this, for example, by deleting the app fromthe simulated device.However, here is a quick command you can paste into the terminal. It will removethe Cloudant Sync database. When you restart the app, the app will initialize anew datastore and behave as if this was its first time to run. For example, itwill re-create the sample meals again.To delete the datastore from the iOS Simulatorrm -i -rv $HOME/Library/Developer/CoreSimulator/Devices/*/data/Containers/Data/Application/*/Documents/foodtracker-mealsThis command will prompt you to remove the files. If you are confident that thecommand is working correct, you can omit the -i option.IMPLEMENT STORING AND QUERYING MEALSWith the datastore initialized, you need to write methods to store and retrievemeal documents. This is the cornerstone of your project. With a few methods tointeract with the datastore, you will enjoy all the benefits the Cloudant Syncdatastore brings: offline-first operation and cloud syncing.For FoodTracker, you will have two primary ways of persisting meals in thedatastore: creating meals and updating meals. Each of these will have its ownmethod, but the methods will share some common code to populate a meal documentwith the correct data. Begin by writing this method. Given a Meal object and aCloudant document, it will copy all of the meal data to the document, so thatthe latter can be created or updated as needed.To implement populating a meal document 1. Open MealTableViewController.swift 2. In MealTableViewController.swift , in the section MARK: Datastore , append a new method:funcpopulateRevision(meal: Meal, revision: CDTDocumentRevision?) {       // Populate a document revision from a Meal.let rev: CDTDocumentRevision = revision           ?? CDTDocumentRevision(docId: meal.docId)       rev.body[\"name\"] = meal.name       rev.body[\"rating\"] = meal.rating           // Set created_at as an ISO 8601-formatted string.let dateFormatter = NSDateFormatter()       dateFormatter.locale = NSLocale(localeIdentifier: \"en_US_POSIX\")       dateFormatter.timeZone = NSTimeZone(abbreviation: \"GMT\")       dateFormatter.dateFormat = \"yyyy-MM-dd'T'HH:mm:ss.SSS'Z'\"let createdAtISO = dateFormatter.stringFromDate(meal.createdAt)       rev.body[\"created_at\"] = createdAtISO           iflet data = UIImagePNGRepresentation(meal.photo!) {           let attachment = CDTUnsavedDataAttachment(data: data,               name: \"photo.jpg\", type: \"image/jpg\")           rev.attachments[attachment.name] = attachment       }    }            Next, implement the method to create new meal documents. Note that sample mealswill have hard-coded document IDs, so that you can detect if they have alreadybeen created or not. User-created meals will have no particular doc ID.To implement meal document creation 1. In MealTableViewController.swift , in the section MARK: Datastore , append a new method:// Create a meal. Return true if the meal was created, or false if// creation was unnecessary.funccreateMeal(meal: Meal) -> Bool {       // User-created meals will have docId == nil. Sample meals have a// string docId. For sample meals, look up the existing doc, with// three possible outcomes://   1. No exception; the doc is already present. Do nothing.//   2. The doc was created, then deleted. Do nothing.//   3. The doc has never been created. Create it.iflet docId = meal.docId {           do {               try datastore!.getDocumentWithId(docId)               print(\"Skip \\(docId) creation: already exists\")               returnfalse           } catchlet error asNSError {               if (error.userInfo[\"NSLocalizedFailureReason\"] as? String                       != \"not_found\") {                   print(\"Skip \\(docId) creation: already deleted by user\")                   returnfalse               }                   print(\"Create sample meal: \\(docId)\")           }       }           let rev = CDTDocumentRevision(docId: meal.docId)       populateRevision(meal, revision: rev)           do {           let result = try datastore!.createDocumentFromRevision(rev)           print(\"Created \\(result.docId)\\(result.revId)\")       } catch {           print(\"Error creating meal: \\(error)\")       }           returntrue    }            Now you are ready to write the update method. Note that “deleting” a Cloudantdocument is in fact a type of update . The update method will accept a Bool parameter indicating whether to deletethe document or not. However, to keep the rest of the code simple, you willwrite one-line convenience methods deleteMeal(_:) and updateMeal(_:) to set the deletion flag automatically.To implement deleting and updating meal documents 1. In MealTableViewController.swift , in the section MARK: Datastore , append the two convenience methods and then the full implementation.funcdeleteMeal(meal: Meal) {        updateMeal(meal, isDelete: true)    }        funcupdateMeal(meal: Meal) {        updateMeal(meal, isDelete: false)    }        funcupdateMeal(meal: Meal, isDelete: Bool) {        guardlet docId = meal.docId else {            print(\"Cannot update a meal with no document ID\")            return        }            let label = isDelete ? \"Delete\" : \"Update\"print(\"\\(label)\\(docId): begin\")            // First, fetch the current document revision from the DB.var rev: CDTDocumentRevisiondo {            rev = try datastore!.getDocumentWithId(docId)            populateRevision(meal, revision: rev)        } catch {            print(\"Error loading meal \\(docId): \\(error)\")            return        }            do {            var result: CDTDocumentRevisionif (isDelete) {                result = try datastore!.deleteDocumentFromRevision(rev)            } else {                result = try datastore!.updateDocumentFromRevision(rev)            }                print(\"\\(label)\\(docId) ok: \\(result.revId)\")        } catch {            print(\"Error updating \\(docId): \\(error)\")            return        }    }            Your app can now create, update, and delete meal docs. To complete this feature,these methods must be integrated with UI. When the user saves or deletes a meal,the controller must run these methods.To create and update meals 1. In MealTableViewController.swift , in the method unwindToMealList(_:) , modify the method body so that it calls updateMeal() or createMeal() as appropriate. The code will look as follows:iflet selectedIndexPath = tableView.indexPathForSelectedRow {        // Update an existing meal.        meals[selectedIndexPath.row] = meal        tableView.reloadRowsAtIndexPaths([selectedIndexPath], withRowAnimation: .None)        updateMeal(meal)    } else {        // Add a new meal.let newIndexPath = NSIndexPath(forRow: meals.count, inSection: 0)        meals.append(meal)        tableView.insertRowsAtIndexPaths([newIndexPath], withRowAnimation: .Bottom)        createMeal(meal)    }             2. In the method tableView(_:commitEditingStyle:forRowAtIndexPath) , insert a call to deleteMeal(_:) for the .Delete editing event. The code will look as follows.        if editingStyle == .Delete {        // Delete the row from the data sourcelet meal = meals[indexPath.row]        deleteMeal(meal)        meals.removeAtIndex(indexPath.row)        tableView.deleteRowsAtIndexPaths([indexPath],            withRowAnimation: .Fade)            The final thing to write is the code to query for meals in the datastore. Thiscode has two parts: initializing an index during app startup (to query bytimestamp), and of course the code to query that index.To support querying meals by timestamp 1. In MealTableViewController.swift , in the method initDatastore() , append this code:datastore?.ensureIndexed([\"created_at\"], withName: \"timestamps\")        // Everything is ready. Load all meals from the datastore.    loadMealsFromDatastore()             2. In MealTableViewController.swift , in the section MARK: Datastore , append this method:        funcloadMealsFromDatastore() {        let query = [\"created_at\": [\"$gt\":\"\"]]        let result = datastore?.find(query, skip: 0, limit: 0, fields:nil, sort: [[\"created_at\":\"asc\"]])        guard result != nilelse {            print(\"Failed to query for meals\")            return        }            meals.removeAll()        result!.enumerateObjectsUsingBlock({ (doc, idx, stop) -> Voidiniflet meal = Meal(aDoc: doc) {                self.meals.append(meal)            }        })    }            That’s it! The most intricate part of your code is finished.CREATE SAMPLE MEALS IN THE DATASTORENow is time to create sample meal documents during app startup. This method willrun every time the app initializes. For each sample meal, it will call createMeal(_:) which will either create the documents or no-op, as needed.To create sample meals during app startup 1. In MealTableViewController.swift , in the section MARK: Datastore , add a new method:funcstoreSampleMeals() {        let photo1 = UIImage(named: \"meal1\")!        let photo2 = UIImage(named: \"meal2\")!        let photo3 = UIImage(named: \"meal3\")!            let meal1 = Meal(name: \"Caprese Salad\", photo: photo1, rating: 4,            docId: \"sample-1\")!        let meal2 = Meal(name: \"Chicken and Potatoes\", photo: photo2, rating: 5,            docId:\"sample-2\")!        let meal3 = Meal(name: \"Pasta with Meatballs\", photo: photo3, rating: 3,            docId:\"sample-3\")!            // Hard-code the createdAt property to get consistent revision IDs. That way, devices that share// a common cloud database will not generate conflicts as they sync their own sample meals.let comps = NSDateComponents()        comps.day = 1        comps.month = 1        comps.year = 2016        comps.timeZone = NSTimeZone(abbreviation: \"GMT\")        let newYear = NSCalendar.currentCalendar()            .dateFromComponents(comps)!            meal1.createdAt = newYear        meal2.createdAt = newYear        meal3.createdAt = newYear            createMeal(meal1)        createMeal(meal2)        createMeal(meal3)    }             2. In MealTableViewController.swift , in the method initDatastore() , insert a call to storeSampleMeals() before the code initializing the index. The final lines of the method will    look as follows:           storeSampleMeals()       datastore?.ensureIndexed([\"created_at\"], withName: \"timestamps\")           // Everything is ready. Load all meals from the datastore.       loadMealsFromDatastore()    }            Checkpoint: Run your app. The app should behave exactly as it did at the beginning of this project.CONCLUSIONCongratulations! While the app remains unchanged superficially, you have made avery powerful upgrade to FoodTracker’s most important aspect: its data. You havetransformed the data layer from a minimal, unexceptional side note to become aflexible, powerful database. This database can be queried, searched, scaled, andreplicated between devices and through the cloud.The next update of this series will cover replicating this data to the cloudusing IBM Cloudant. Indeed, implementing cloud syncing is much simpler than thework from this lesson. You have completed laying the foundation!DOWNLOAD THIS PROJECTTo see the completed sample project for this lesson, download the file and viewit in Xcode.Download FileSHARE THIS: * Click to email this to a friend (Opens in new window) * Click to share on Twitter (Opens in new window) * Click to share on LinkedIn (Opens in new window) * Share on Facebook (Opens in new window) * Click to share on Reddit (Opens in new window) * Click to share on Pocket (Opens in new window) * Tagged: cloudant / iOS / Mobile / swift Please enable JavaScript to view the comments powered by Disqus. blog comments powered by Disqus * SUBSCRIBE TO BLOG UPDATES   Enter your email address to subscribe to this blog and receive notifications   of new posts by email.      Email Address             * CATEGORIES    * Analytics    * Cloudant    * Community    * Compose    * CouchDB    * dashDB    * Data Warehousing    * DB2    * Elasticsearch    * Gaming    * Geospatial    * Hybrid    * IoT    * Location    * Message Hub    * Migration    * Mobile    * MongoDB    * NoSQL    * Offline    * Open Data    * PostgreSQL    * Redis    * Spark    * SQL      RSS Feed * Report Abuse * Terms of Use * Third Party Notice * IBM PrivacyIBM Send to Email Address Your Name Your Email Address Cancel Post was not sent - check your email addresses! Email check failed, please try again Sorry, your blog cannot share posts by email.\n"
     ]
    }
   ],
   "source": [
    "row = df_content.loc[df_content['article_id'] == 10] # choose article_id = 10\n",
    "\n",
    "for word in row['doc_body']: # the doc_body of article 10 \n",
    "    print(word)"
   ]
  },
  {
   "cell_type": "code",
   "execution_count": 7,
   "metadata": {},
   "outputs": [
    {
     "name": "stdout",
     "output_type": "stream",
     "text": [
      "Apple's sample app, Food Tracker, taught you iOS. Now, take it further and sync data between devices, through the cloud, with an offline-first design.\n"
     ]
    }
   ],
   "source": [
    "for word in row['doc_description']: # read the doc_description \n",
    "    print(word)"
   ]
  },
  {
   "cell_type": "code",
   "execution_count": 8,
   "metadata": {},
   "outputs": [
    {
     "name": "stdout",
     "output_type": "stream",
     "text": [
      "Offline-First iOS Apps with Swift & Cloudant Sync; Part 1: The Datastore\n"
     ]
    }
   ],
   "source": [
    "for word in row['doc_full_name']: # read the doc_full_name \n",
    "    print(word)"
   ]
  },
  {
   "cell_type": "markdown",
   "metadata": {},
   "source": [
    "### <a class=\"anchor\" id=\"Exploratory-Data-Analysis\">Part I : Exploratory Data Analysis</a>\n",
    "\n",
    "Use the dictionary and cells below to provide some insight into the descriptive statistics of the data.\n",
    "\n",
    "`1.` What is the distribution of how many articles a user interacts with in the dataset?  Provide a visual and descriptive statistics to assist with giving a look at the number of times each user interacts with an article.  "
   ]
  },
  {
   "cell_type": "code",
   "execution_count": 9,
   "metadata": {},
   "outputs": [
    {
     "data": {
      "image/png": "[encoded data removed]",
      "text/plain": [
       "<matplotlib.figure.Figure at 0x7f6f09b5dc88>"
      ]
     },
     "metadata": {
      "needs_background": "light"
     },
     "output_type": "display_data"
    }
   ],
   "source": [
    "interation_counts = df.groupby('email')['article_id'].count().values\n",
    "plt.figure(figsize=(15,4))\n",
    "plt.plot(interation_counts)\n",
    "plt.xlabel('Users')\n",
    "plt.ylabel('Interaction Counts')\n",
    "plt.title('The number of times each user interacts with articles')\n",
    "plt.show()"
   ]
  },
  {
   "cell_type": "code",
   "execution_count": 10,
   "metadata": {},
   "outputs": [],
   "source": [
    "# Fill in the median and maximum number of user_article interactios below\n",
    "median_val = df.groupby('email')['article_id'].count().median()\n",
    "max_views_by_user = df.groupby('email')['article_id'].count().max()"
   ]
  },
  {
   "cell_type": "code",
   "execution_count": 11,
   "metadata": {},
   "outputs": [
    {
     "name": "stdout",
     "output_type": "stream",
     "text": [
      "median 3.0\n",
      "max 364\n"
     ]
    }
   ],
   "source": [
    "print('median',median_val) # meaning 50% of individuals interact with 3 or fewer.\n",
    "print('max',max_views_by_user) # meaning the maximum number of user-article interactions by any 1 user is 364."
   ]
  },
  {
   "cell_type": "markdown",
   "metadata": {},
   "source": [
    "`2.` Explore and remove duplicate articles from the **df_content** dataframe.  "
   ]
  },
  {
   "cell_type": "code",
   "execution_count": 12,
   "metadata": {},
   "outputs": [
    {
     "data": {
      "text/html": [
       "<div>\n",
       "<style scoped>\n",
       "    .dataframe tbody tr th:only-of-type {\n",
       "        vertical-align: middle;\n",
       "    }\n",
       "\n",
       "    .dataframe tbody tr th {\n",
       "        vertical-align: top;\n",
       "    }\n",
       "\n",
       "    .dataframe thead th {\n",
       "        text-align: right;\n",
       "    }\n",
       "</style>\n",
       "<table border=\"1\" class=\"dataframe\">\n",
       "  <thead>\n",
       "    <tr style=\"text-align: right;\">\n",
       "      <th></th>\n",
       "      <th>doc_body</th>\n",
       "      <th>doc_description</th>\n",
       "      <th>doc_full_name</th>\n",
       "      <th>doc_status</th>\n",
       "      <th>article_id</th>\n",
       "    </tr>\n",
       "  </thead>\n",
       "  <tbody>\n",
       "    <tr>\n",
       "      <th>365</th>\n",
       "      <td>Follow Sign in / Sign up Home About Insight Da...</td>\n",
       "      <td>During the seven-week Insight Data Engineering...</td>\n",
       "      <td>Graph-based machine learning</td>\n",
       "      <td>Live</td>\n",
       "      <td>50</td>\n",
       "    </tr>\n",
       "    <tr>\n",
       "      <th>692</th>\n",
       "      <td>Homepage Follow Sign in / Sign up Homepage * H...</td>\n",
       "      <td>One of the earliest documented catalogs was co...</td>\n",
       "      <td>How smart catalogs can turn the big data flood...</td>\n",
       "      <td>Live</td>\n",
       "      <td>221</td>\n",
       "    </tr>\n",
       "    <tr>\n",
       "      <th>761</th>\n",
       "      <td>Homepage Follow Sign in Get started Homepage *...</td>\n",
       "      <td>Today’s world of data science leverages data f...</td>\n",
       "      <td>Using Apache Spark as a parallel processing fr...</td>\n",
       "      <td>Live</td>\n",
       "      <td>398</td>\n",
       "    </tr>\n",
       "    <tr>\n",
       "      <th>970</th>\n",
       "      <td>This video shows you how to construct queries ...</td>\n",
       "      <td>This video shows you how to construct queries ...</td>\n",
       "      <td>Use the Primary Index</td>\n",
       "      <td>Live</td>\n",
       "      <td>577</td>\n",
       "    </tr>\n",
       "    <tr>\n",
       "      <th>971</th>\n",
       "      <td>Homepage Follow Sign in Get started * Home\\r\\n...</td>\n",
       "      <td>If you are like most data scientists, you are ...</td>\n",
       "      <td>Self-service data preparation with IBM Data Re...</td>\n",
       "      <td>Live</td>\n",
       "      <td>232</td>\n",
       "    </tr>\n",
       "  </tbody>\n",
       "</table>\n",
       "</div>"
      ],
      "text/plain": [
       "                                              doc_body  \\\n",
       "365  Follow Sign in / Sign up Home About Insight Da...   \n",
       "692  Homepage Follow Sign in / Sign up Homepage * H...   \n",
       "761  Homepage Follow Sign in Get started Homepage *...   \n",
       "970  This video shows you how to construct queries ...   \n",
       "971  Homepage Follow Sign in Get started * Home\\r\\n...   \n",
       "\n",
       "                                       doc_description  \\\n",
       "365  During the seven-week Insight Data Engineering...   \n",
       "692  One of the earliest documented catalogs was co...   \n",
       "761  Today’s world of data science leverages data f...   \n",
       "970  This video shows you how to construct queries ...   \n",
       "971  If you are like most data scientists, you are ...   \n",
       "\n",
       "                                         doc_full_name doc_status  article_id  \n",
       "365                       Graph-based machine learning       Live          50  \n",
       "692  How smart catalogs can turn the big data flood...       Live         221  \n",
       "761  Using Apache Spark as a parallel processing fr...       Live         398  \n",
       "970                              Use the Primary Index       Live         577  \n",
       "971  Self-service data preparation with IBM Data Re...       Live         232  "
      ]
     },
     "execution_count": 12,
     "metadata": {},
     "output_type": "execute_result"
    }
   ],
   "source": [
    "# Find and explore duplicate articles\n",
    "df_content[df_content.duplicated(['article_id'])]"
   ]
  },
  {
   "cell_type": "code",
   "execution_count": 13,
   "metadata": {},
   "outputs": [],
   "source": [
    "# Remove any rows that have the same article_id - only keep the first\n",
    "df_content.drop_duplicates(['article_id'], inplace=True)"
   ]
  },
  {
   "cell_type": "markdown",
   "metadata": {},
   "source": [
    "`3.` Use the cells below to find:\n",
    "\n",
    "**a.** The number of unique articles that have an interaction with a user.  \n",
    "**b.** The number of unique articles in the dataset (whether they have any interactions or not).<br>\n",
    "**c.** The number of unique users in the dataset. (excluding null values) <br>\n",
    "**d.** The number of user-article interactions in the dataset."
   ]
  },
  {
   "cell_type": "code",
   "execution_count": 14,
   "metadata": {},
   "outputs": [],
   "source": [
    "unique_articles = len(df.article_id.value_counts())\n",
    "total_articles = df_content.article_id.nunique()\n",
    "unique_users = df.email.nunique()\n",
    "user_article_interactions = len(df)"
   ]
  },
  {
   "cell_type": "code",
   "execution_count": 15,
   "metadata": {},
   "outputs": [
    {
     "name": "stdout",
     "output_type": "stream",
     "text": [
      "unique_articles 714\n",
      "total_articles 1051\n",
      "unique_users 5148\n",
      "user_article_interactions 45993\n"
     ]
    }
   ],
   "source": [
    "print('unique_articles', unique_articles)\n",
    "print('total_articles', total_articles)\n",
    "print('unique_users', unique_users)\n",
    "print('user_article_interactions', user_article_interactions)"
   ]
  },
  {
   "cell_type": "markdown",
   "metadata": {},
   "source": [
    "`4.` Use the cells below to find the most viewed **article_id**, as well as how often it was viewed.  After talking to the company leaders, the `email_mapper` function was deemed a reasonable way to map users to ids.  There were a small number of null values, and it was found that all of these null values likely belonged to a single user (which is how they are stored using the function below)."
   ]
  },
  {
   "cell_type": "code",
   "execution_count": 16,
   "metadata": {},
   "outputs": [
    {
     "data": {
      "text/plain": [
       "1429.0    937\n",
       "1330.0    927\n",
       "1431.0    671\n",
       "1427.0    643\n",
       "1364.0    627\n",
       "Name: article_id, dtype: int64"
      ]
     },
     "execution_count": 16,
     "metadata": {},
     "output_type": "execute_result"
    }
   ],
   "source": [
    "df.article_id.value_counts().head() "
   ]
  },
  {
   "cell_type": "code",
   "execution_count": 17,
   "metadata": {},
   "outputs": [],
   "source": [
    "most_viewed_article_id = '1429.0' # The most viewed article in the dataset as a string with one value following the decimal \n",
    "max_views = 937 # The most viewed article in the dataset was viewed how many times?"
   ]
  },
  {
   "cell_type": "code",
   "execution_count": 18,
   "metadata": {},
   "outputs": [
    {
     "data": {
      "text/html": [
       "<div>\n",
       "<style scoped>\n",
       "    .dataframe tbody tr th:only-of-type {\n",
       "        vertical-align: middle;\n",
       "    }\n",
       "\n",
       "    .dataframe tbody tr th {\n",
       "        vertical-align: top;\n",
       "    }\n",
       "\n",
       "    .dataframe thead th {\n",
       "        text-align: right;\n",
       "    }\n",
       "</style>\n",
       "<table border=\"1\" class=\"dataframe\">\n",
       "  <thead>\n",
       "    <tr style=\"text-align: right;\">\n",
       "      <th></th>\n",
       "      <th>article_id</th>\n",
       "      <th>title</th>\n",
       "      <th>user_id</th>\n",
       "    </tr>\n",
       "  </thead>\n",
       "  <tbody>\n",
       "    <tr>\n",
       "      <th>0</th>\n",
       "      <td>1430.0</td>\n",
       "      <td>using pixiedust for fast, flexible, and easier...</td>\n",
       "      <td>1</td>\n",
       "    </tr>\n",
       "    <tr>\n",
       "      <th>1</th>\n",
       "      <td>1314.0</td>\n",
       "      <td>healthcare python streaming application demo</td>\n",
       "      <td>2</td>\n",
       "    </tr>\n",
       "    <tr>\n",
       "      <th>2</th>\n",
       "      <td>1429.0</td>\n",
       "      <td>use deep learning for image classification</td>\n",
       "      <td>3</td>\n",
       "    </tr>\n",
       "    <tr>\n",
       "      <th>3</th>\n",
       "      <td>1338.0</td>\n",
       "      <td>ml optimization using cognitive assistant</td>\n",
       "      <td>4</td>\n",
       "    </tr>\n",
       "    <tr>\n",
       "      <th>4</th>\n",
       "      <td>1276.0</td>\n",
       "      <td>deploy your python model as a restful api</td>\n",
       "      <td>5</td>\n",
       "    </tr>\n",
       "  </tbody>\n",
       "</table>\n",
       "</div>"
      ],
      "text/plain": [
       "   article_id                                              title  user_id\n",
       "0      1430.0  using pixiedust for fast, flexible, and easier...        1\n",
       "1      1314.0       healthcare python streaming application demo        2\n",
       "2      1429.0         use deep learning for image classification        3\n",
       "3      1338.0          ml optimization using cognitive assistant        4\n",
       "4      1276.0          deploy your python model as a restful api        5"
      ]
     },
     "execution_count": 18,
     "metadata": {},
     "output_type": "execute_result"
    }
   ],
   "source": [
    "## No need to change the code here - this will be helpful for later parts of the notebook\n",
    "# Run this cell to map the user email to a user_id column and remove the email column\n",
    "\n",
    "def email_mapper():\n",
    "    coded_dict = dict()\n",
    "    cter = 1\n",
    "    email_encoded = []\n",
    "    \n",
    "    for val in df['email']:\n",
    "        if val not in coded_dict:\n",
    "            coded_dict[val] = cter\n",
    "            cter+=1\n",
    "        \n",
    "        email_encoded.append(coded_dict[val])\n",
    "    return email_encoded\n",
    "\n",
    "email_encoded = email_mapper()\n",
    "del df['email']\n",
    "df['user_id'] = email_encoded\n",
    "\n",
    "# show header\n",
    "df.head()"
   ]
  },
  {
   "cell_type": "code",
   "execution_count": 19,
   "metadata": {},
   "outputs": [
    {
     "name": "stdout",
     "output_type": "stream",
     "text": [
      "It looks like you have everything right here! Nice job!\n"
     ]
    }
   ],
   "source": [
    "## If you stored all your results in the variable names above, \n",
    "## you shouldn't need to change anything in this cell\n",
    "\n",
    "sol_1_dict = {\n",
    "    '`50% of individuals have _____ or fewer interactions.`': median_val,\n",
    "    '`The total number of user-article interactions in the dataset is ______.`': user_article_interactions,\n",
    "    '`The maximum number of user-article interactions by any 1 user is ______.`': max_views_by_user,\n",
    "    '`The most viewed article in the dataset was viewed _____ times.`': max_views,\n",
    "    '`The article_id of the most viewed article is ______.`': most_viewed_article_id,\n",
    "    '`The number of unique articles that have at least 1 rating ______.`': unique_articles,\n",
    "    '`The number of unique users in the dataset is ______`': unique_users,\n",
    "    '`The number of unique articles on the IBM platform`': total_articles\n",
    "}\n",
    "\n",
    "# Test your dictionary against the solution\n",
    "t.sol_1_test(sol_1_dict)"
   ]
  },
  {
   "cell_type": "markdown",
   "metadata": {},
   "source": [
    "### <a class=\"anchor\" id=\"Rank\">Part II: Rank-Based Recommendations</a>\n",
    "\n",
    "Unlike in the earlier lessons, we don't actually have ratings for whether a user liked an article or not.  We only know that a user has interacted with an article.  In these cases, the popularity of an article can really only be based on how often an article was interacted with.\n",
    "\n",
    "`1.` Fill in the function below to return the **n** top articles ordered with most interactions as the top. Test your function using the tests below."
   ]
  },
  {
   "cell_type": "code",
   "execution_count": 20,
   "metadata": {},
   "outputs": [],
   "source": [
    "def get_top_articles(n, df=df):\n",
    "    '''\n",
    "    INPUT:\n",
    "    n - (int) the number of top articles to return\n",
    "    df - (pandas dataframe) df as defined at the top of the notebook \n",
    "    \n",
    "    OUTPUT:\n",
    "    top_articles - (list) A list of the top 'n' article titles \n",
    "    \n",
    "    '''\n",
    "    top_articles = list(df['title'].value_counts().reset_index().head(n)['index'])\n",
    "        \n",
    "    return top_articles # Return the top article titles from df (not df_content)\n",
    "\n",
    "def get_top_article_ids(n, df=df):\n",
    "    '''\n",
    "    INPUT:\n",
    "    n - (int) the number of top articles to return\n",
    "    df - (pandas dataframe) df as defined at the top of the notebook \n",
    "    \n",
    "    OUTPUT:\n",
    "    top_articles_ids - (list) A list of ids of the top 'n' article titles \n",
    "    \n",
    "    '''\n",
    "    top_articles_ids = list(df.article_id.value_counts().reset_index().head(n)['index'])\n",
    " \n",
    "    return top_articles_ids # Return the top article ids"
   ]
  },
  {
   "cell_type": "code",
   "execution_count": 21,
   "metadata": {},
   "outputs": [
    {
     "name": "stdout",
     "output_type": "stream",
     "text": [
      "['use deep learning for image classification', 'insights from new york car accident reports', 'visualize car data with brunel', 'use xgboost, scikit-learn & ibm watson machine learning apis', 'predicting churn with the spss random tree algorithm', 'healthcare python streaming application demo', 'finding optimal locations of new store using decision optimization', 'apache spark lab, part 1: basic concepts', 'analyze energy consumption in buildings', 'gosales transactions for logistic regression model']\n",
      "[1429.0, 1330.0, 1431.0, 1427.0, 1364.0, 1314.0, 1293.0, 1170.0, 1162.0, 1304.0]\n"
     ]
    }
   ],
   "source": [
    "print(get_top_articles(10))\n",
    "print(get_top_article_ids(10))"
   ]
  },
  {
   "cell_type": "code",
   "execution_count": 22,
   "metadata": {},
   "outputs": [
    {
     "name": "stdout",
     "output_type": "stream",
     "text": [
      "Your top_5 looks like the solution list! Nice job.\n",
      "Your top_10 looks like the solution list! Nice job.\n",
      "Your top_20 looks like the solution list! Nice job.\n"
     ]
    }
   ],
   "source": [
    "# Test your function by returning the top 5, 10, and 20 articles\n",
    "top_5 = get_top_articles(5)\n",
    "top_10 = get_top_articles(10)\n",
    "top_20 = get_top_articles(20)\n",
    "\n",
    "# Test each of your three lists from above\n",
    "t.sol_2_test(get_top_articles)"
   ]
  },
  {
   "cell_type": "markdown",
   "metadata": {},
   "source": [
    "### <a class=\"anchor\" id=\"User-User\">Part III: User-User Based Collaborative Filtering</a>\n",
    "\n",
    "\n",
    "`1.` Use the function below to reformat the **df** dataframe to be shaped with users as the rows and articles as the columns.  \n",
    "\n",
    "* Each **user** should only appear in each **row** once.\n",
    "\n",
    "\n",
    "* Each **article** should only show up in one **column**.  \n",
    "\n",
    "\n",
    "* **If a user has interacted with an article, then place a 1 where the user-row meets for that article-column**.  It does not matter how many times a user has interacted with the article, all entries where a user has interacted with an article should be a 1.  \n",
    "\n",
    "\n",
    "* **If a user has not interacted with an item, then place a zero where the user-row meets for that article-column**. \n",
    "\n",
    "Use the tests to make sure the basic structure of your matrix matches what is expected by the solution."
   ]
  },
  {
   "cell_type": "code",
   "execution_count": 23,
   "metadata": {},
   "outputs": [],
   "source": [
    "# create the user-article matrix with 1's and 0's\n",
    "\n",
    "def create_user_item_matrix(df):\n",
    "    '''\n",
    "    INPUT:\n",
    "    df - pandas dataframe with article_id, title, user_id columns\n",
    "    \n",
    "    OUTPUT:\n",
    "    user_item - user item matrix \n",
    "    \n",
    "    Description:\n",
    "    Return a matrix with user ids as rows and article ids on the columns with 1 values where a user interacted with \n",
    "    an article and a 0 otherwise\n",
    "    '''\n",
    "    # Fill in the function here\n",
    "    article_id = df.sort_values('article_id').drop_duplicates('article_id').article_id.values\n",
    "    \n",
    "    user_id = df.drop_duplicates('user_id').user_id.values\n",
    "    \n",
    "    user_item = pd.DataFrame(data = 0, columns=article_id, index=user_id)\n",
    "    \n",
    "    data = np.vstack({tuple(row) for row in df[['user_id', 'article_id']].values})\n",
    "    \n",
    "    for row in data:\n",
    "        \n",
    "        user_item.loc[row[0]][row[1]] = 1\n",
    "        \n",
    "    return user_item # return the user_item matrix \n",
    "\n",
    "user_item = create_user_item_matrix(df)"
   ]
  },
  {
   "cell_type": "code",
   "execution_count": 24,
   "metadata": {},
   "outputs": [
    {
     "name": "stdout",
     "output_type": "stream",
     "text": [
      "You have passed our quick tests!  Please proceed!\n"
     ]
    }
   ],
   "source": [
    "## Tests: You should just need to run this cell.  Don't change the code.\n",
    "assert user_item.shape[0] == 5149, \"Oops!  The number of users in the user-article matrix doesn't look right.\"\n",
    "assert user_item.shape[1] == 714, \"Oops!  The number of articles in the user-article matrix doesn't look right.\"\n",
    "assert user_item.sum(axis=1)[1] == 36, \"Oops!  The number of articles seen by user 1 doesn't look right.\"\n",
    "print(\"You have passed our quick tests!  Please proceed!\")"
   ]
  },
  {
   "cell_type": "code",
   "execution_count": 25,
   "metadata": {},
   "outputs": [],
   "source": [
    "def pearson_corr(x, y):\n",
    "    '''\n",
    "    INPUT\n",
    "    x - an array of matching length to array y\n",
    "    y - an array of matching length to array x\n",
    "    OUTPUT\n",
    "    corr - the pearson correlation coefficient for comparing x and y\n",
    "    '''\n",
    "    # Compute Mean Values\n",
    "    mean_x, mean_y = np.sum(x)/len(x), np.sum(y)/len(y) \n",
    "    \n",
    "    x_diffs = x - mean_x\n",
    "    y_diffs = y - mean_y\n",
    "    numerator = np.sum(x_diffs*y_diffs)\n",
    "    denominator = np.sqrt(np.sum(x_diffs**2))*np.sqrt(np.sum(y_diffs**2))\n",
    "        \n",
    "    corr = numerator/denominator\n",
    "                            \n",
    "    return corr"
   ]
  },
  {
   "cell_type": "markdown",
   "metadata": {},
   "source": [
    "`2.` Complete the function below which should take a user_id and provide an ordered list of the most similar users to that user (from most similar to least similar).  The returned result should not contain the provided user_id, as we know that each user is similar to him/herself. Because the results for each user here are binary, it (perhaps) makes sense to compute similarity as the dot product of two users. \n",
    "\n",
    "Use the tests to test your function."
   ]
  },
  {
   "cell_type": "code",
   "execution_count": 26,
   "metadata": {},
   "outputs": [],
   "source": [
    "def find_similar_users(user_id, user_item=user_item):\n",
    "    '''\n",
    "    INPUT:\n",
    "    user_id - (int) a user_id\n",
    "    user_item - (pandas dataframe) matrix of users by articles: \n",
    "                1's when a user has interacted with an article, 0 otherwise\n",
    "    \n",
    "    OUTPUT:\n",
    "    similar_users - (list) an ordered list where the closest users (largest dot product users)\n",
    "                    are listed first\n",
    "    \n",
    "    Description:\n",
    "    Computes the similarity of every pair of users based on the dot product\n",
    "    Returns an ordered\n",
    "    \n",
    "    '''\n",
    "    # compute similarity of each user to the provided user\n",
    "    similarity = user_item[user_item.index == user_id].dot(user_item.T)\n",
    "    # sort by similarity\n",
    "    # create list of just the ids\n",
    "    most_similar_users = similarity.sort_values(user_id, axis=1, ascending=False).columns.tolist()\n",
    "    # remove the own user's id\n",
    "    most_similar_users.remove(user_id)\n",
    "    return most_similar_users # return a list of the users in order from most to least similar"
   ]
  },
  {
   "cell_type": "code",
   "execution_count": 27,
   "metadata": {},
   "outputs": [
    {
     "name": "stdout",
     "output_type": "stream",
     "text": [
      "The 10 most similar users to user 1 are: [3933, 23, 3782, 203, 4459, 3870, 131, 4201, 46, 5041]\n",
      "The 5 most similar users to user 3933 are: [1, 23, 3782, 203, 4459]\n",
      "The 3 most similar users to user 46 are: [4201, 3782, 23]\n"
     ]
    }
   ],
   "source": [
    "# Do a spot check of your function\n",
    "print(\"The 10 most similar users to user 1 are: {}\".format(find_similar_users(1)[:10]))\n",
    "print(\"The 5 most similar users to user 3933 are: {}\".format(find_similar_users(3933)[:5]))\n",
    "print(\"The 3 most similar users to user 46 are: {}\".format(find_similar_users(46)[:3]))"
   ]
  },
  {
   "cell_type": "markdown",
   "metadata": {},
   "source": [
    "`3.` Now that you have a function that provides the most similar users to each user, you will want to use these users to find articles you can recommend.  Complete the functions below to return the articles you would recommend to each user. "
   ]
  },
  {
   "cell_type": "code",
   "execution_count": 28,
   "metadata": {},
   "outputs": [],
   "source": [
    "def get_article_names(article_ids, df=df):\n",
    "    '''\n",
    "    INPUT:\n",
    "    article_ids - (list) a list of article ids\n",
    "    df - (pandas dataframe) df as defined at the top of the notebook\n",
    "    \n",
    "    OUTPUT:\n",
    "    article_names - (list) a list of article names associated with the list of article ids \n",
    "                    (this is identified by the title column)\n",
    "    '''\n",
    "    # Your code here\n",
    "    article_names = df[df['article_id'].isin(article_ids)]['title'].drop_duplicates().values.tolist()\n",
    "    \n",
    "    return article_names # Return the article names associated with list of article ids\n",
    "\n",
    "\n",
    "def get_user_articles(user_id, user_item=user_item):\n",
    "    '''\n",
    "    INPUT:\n",
    "    user_id - (int) a user id\n",
    "    user_item - (pandas dataframe) matrix of users by articles: \n",
    "                1's when a user has interacted with an article, 0 otherwise\n",
    "    \n",
    "    OUTPUT:\n",
    "    article_ids - (list) a list of the article ids seen by the user\n",
    "    article_names - (list) a list of article names associated with the list of article ids \n",
    "                    (this is identified by the doc_full_name column in df_content)\n",
    "    \n",
    "    Description:\n",
    "    Provides a list of the article_ids and article titles that have been seen by a user\n",
    "    '''\n",
    "    # Your code here\n",
    "    # a list of the article ids seen by the user\n",
    "    article_ids = user_item.loc[user_id][user_item.loc[user_id] == 1].index.tolist()\n",
    "    \n",
    "    # change data type into string\n",
    "    for i in range(len(article_ids)):\n",
    "        \n",
    "        article_ids[i] = str(article_ids[i])\n",
    "        \n",
    "    article_names = get_article_names(article_ids)\n",
    "    \n",
    "    return article_ids, article_names # return the ids and names\n",
    "\n",
    "\n",
    "def user_user_recs(user_id, m=10): # m - the number of recommendations you want for the user\n",
    "    ''' \n",
    "    INPUT:\n",
    "    user_id - (int) a user id\n",
    "    m - (int) the number of recommendations you want for the user\n",
    "    \n",
    "    OUTPUT:\n",
    "    recs - (list) a list of recommendations for the user\n",
    "    \n",
    "    Description:\n",
    "    Loops through the users based on closeness to the input user_id\n",
    "    For each user - finds articles the user hasn't seen before and provides them as recs\n",
    "    Does this until m recommendations are found\n",
    "    \n",
    "    Notes:\n",
    "    Users who are the same closeness are chosen arbitrarily as the 'next' user\n",
    "    \n",
    "    For the user where the number of recommended articles starts below m \n",
    "    and ends exceeding m, the last items are chosen arbitrarily\n",
    "    \n",
    "    '''\n",
    "    # Your code here\n",
    "    similar_users = find_similar_users(user_id)\n",
    "    \n",
    "    recommended_articles = []\n",
    "    \n",
    "    seen_article_ids = get_user_articles(user_id)[0]\n",
    "    \n",
    "    for user in similar_users:\n",
    "        \n",
    "        article_ids = get_user_articles(user)[0]\n",
    "        \n",
    "        recommended_articles.extend(list(set(seen_article_ids) ^ set(article_ids)))\n",
    "        \n",
    "    recs = recommended_articles[:m]\n",
    "    \n",
    "    return recs # return your recommendations for this user_id"
   ]
  },
  {
   "cell_type": "code",
   "execution_count": 29,
   "metadata": {},
   "outputs": [
    {
     "data": {
      "text/plain": [
       "['healthcare python streaming application demo',\n",
       " 'visualize data with the matplotlib library',\n",
       " 'using github for project control in dsx',\n",
       " 'jupyter notebook tutorial',\n",
       " 'using brunel in ipython/jupyter notebooks',\n",
       " 'rapidly build machine learning flows with dsx',\n",
       " 'variational auto-encoder for \"frey faces\" using keras',\n",
       " 'pixiedust 1.0 is here! – ibm watson data lab',\n",
       " 'markdown for jupyter notebooks cheatsheet',\n",
       " 'the power of machine learning in spark']"
      ]
     },
     "execution_count": 29,
     "metadata": {},
     "output_type": "execute_result"
    }
   ],
   "source": [
    "# Check Results\n",
    "get_article_names(user_user_recs(1, 10)) # Return 10 recommendations for user 1"
   ]
  },
  {
   "cell_type": "code",
   "execution_count": 30,
   "metadata": {},
   "outputs": [
    {
     "data": {
      "text/plain": [
       "(['232.0', '844.0', '1320.0'],\n",
       " ['housing (2015): united states demographic measures',\n",
       "  'use the cloudant-spark connector in python notebook',\n",
       "  'self-service data preparation with ibm data refinery'])"
      ]
     },
     "execution_count": 30,
     "metadata": {},
     "output_type": "execute_result"
    }
   ],
   "source": [
    "get_user_articles(20) # check our results in advance "
   ]
  },
  {
   "cell_type": "code",
   "execution_count": 31,
   "metadata": {},
   "outputs": [
    {
     "name": "stdout",
     "output_type": "stream",
     "text": [
      "If this is all you see, you passed all of our tests!  Nice job!\n"
     ]
    }
   ],
   "source": [
    "# Test your functions here - No need to change this code - just run this cell\n",
    "assert set(get_article_names(['1024.0', '1176.0', '1305.0', '1314.0', '1422.0', '1427.0'])) == set(['using deep learning to reconstruct high-resolution audio', 'build a python app on the streaming analytics service', 'gosales transactions for naive bayes model', 'healthcare python streaming application demo', 'use r dataframes & ibm watson natural language understanding', 'use xgboost, scikit-learn & ibm watson machine learning apis']), \"Oops! Your the get_article_names function doesn't work quite how we expect.\"\n",
    "assert set(get_article_names(['1320.0', '232.0', '844.0'])) == set(['housing (2015): united states demographic measures','self-service data preparation with ibm data refinery','use the cloudant-spark connector in python notebook']), \"Oops! Your the get_article_names function doesn't work quite how we expect.\"\n",
    "assert set(get_user_articles(20)[0]) == set(['1320.0', '232.0', '844.0'])\n",
    "assert set(get_user_articles(20)[1]) == set(['housing (2015): united states demographic measures', 'self-service data preparation with ibm data refinery','use the cloudant-spark connector in python notebook'])\n",
    "assert set(get_user_articles(2)[0]) == set(['1024.0', '1176.0', '1305.0', '1314.0', '1422.0', '1427.0'])\n",
    "assert set(get_user_articles(2)[1]) == set(['using deep learning to reconstruct high-resolution audio', 'build a python app on the streaming analytics service', 'gosales transactions for naive bayes model', 'healthcare python streaming application demo', 'use r dataframes & ibm watson natural language understanding', 'use xgboost, scikit-learn & ibm watson machine learning apis'])\n",
    "print(\"If this is all you see, you passed all of our tests!  Nice job!\")"
   ]
  },
  {
   "cell_type": "markdown",
   "metadata": {},
   "source": [
    "`4.` Now we are going to improve the consistency of the **user_user_recs** function from above.  \n",
    "\n",
    "* Instead of arbitrarily choosing when we obtain users who are all the same closeness to a given user - choose the users that have the most total article interactions before choosing those with fewer article interactions.\n",
    "\n",
    "\n",
    "* Instead of arbitrarily choosing articles from the user where the number of recommended articles starts below m and ends exceeding m, choose articles with the articles with the most total interactions before choosing those with fewer total interactions. This ranking should be  what would be obtained from the **top_articles** function you wrote earlier."
   ]
  },
  {
   "cell_type": "code",
   "execution_count": 34,
   "metadata": {},
   "outputs": [],
   "source": [
    "def get_top_sorted_users(user_id, df=df, user_item=user_item):\n",
    "    '''\n",
    "    INPUT:\n",
    "    user_id - (int)\n",
    "    df - (pandas dataframe) df as defined at the top of the notebook \n",
    "    user_item - (pandas dataframe) matrix of users by articles: \n",
    "            1's when a user has interacted with an article, 0 otherwise\n",
    "    \n",
    "            \n",
    "    OUTPUT:\n",
    "    neighbors_df - (pandas dataframe) a dataframe with:\n",
    "                    neighbor_id - is a neighbor user_id\n",
    "                    similarity - measure of the similarity of each user to the provided user_id\n",
    "                    num_interactions - the number of articles viewed by the user - if a u\n",
    "                    \n",
    "    Other Details - sort the neighbors_df by the similarity and then by number of interactions where \n",
    "                    highest of each is higher in the dataframe\n",
    "                    \n",
    "\n",
    "    '''\n",
    "    colName = ['neighbor_id', 'similarity', 'num_interactions']\n",
    "    neighbors_df = pd.DataFrame(columns = colName)\n",
    "    \n",
    "    # Your code here\n",
    "    # compute similarity of each user to the provided user\n",
    "    similarity = np.dot(\n",
    "        np.array(user_item[user_item.index == user_id]), np.array(user_item).T)\n",
    "    similarity = pd.Series(\n",
    "        similarity.reshape(-1,).tolist(), index=user_item.index)\n",
    "    \n",
    "    # compute num_interactions\n",
    "    num_interactions = df.groupby(['user_id'])['article_id'].count()[user_item.index]\n",
    "\n",
    "    # produce neighbors_df \n",
    "    neighbors_df = pd.DataFrame({'neighbor_id': user_item.index, 'similarity': similarity,\n",
    "                                 'num_interactions': num_interactions}).set_index('neighbor_id')\n",
    "    \n",
    "    # drop user_id itself\n",
    "    neighbors_df = neighbors_df.drop([user_id])\n",
    "    \n",
    "    # sort by similarity and num_interactions\n",
    "    neighbors_df = neighbors_df.sort_values(\n",
    "        ['similarity', 'num_interactions'], ascending=[False, False]).reset_index()\n",
    "    \n",
    "    return neighbors_df # Return the dataframe specified in the doc_string\n",
    "\n",
    "def user_user_recs_part2(user_id, m=10):\n",
    "    '''\n",
    "    INPUT:\n",
    "    user_id - (int) a user id\n",
    "    m - (int) the number of recommendations you want for the user\n",
    "    \n",
    "    OUTPUT:\n",
    "    recs - (list) a list of recommendations for the user by article id\n",
    "    rec_names - (list) a list of recommendations for the user by article title\n",
    "    \n",
    "    Description:\n",
    "    Loops through the users based on closeness to the input user_id\n",
    "    For each user - finds articles the user hasn't seen before and provides them as recs\n",
    "    Does this until m recommendations are found\n",
    "    \n",
    "    Notes:\n",
    "    * Choose the users that have the most total article interactions \n",
    "    before choosing those with fewer article interactions.\n",
    "\n",
    "    * Choose articles with the articles with the most total interactions \n",
    "    before choosing those with fewer total interactions. \n",
    "   \n",
    "    '''\n",
    "    top_df = get_top_sorted_users(user_id)\n",
    "    user_id_list = top_df['neighbor_id'].values.tolist()\n",
    "    recs = []\n",
    "    name_ids = []\n",
    "\n",
    "    exp_article_ids = list(set(df[df['user_id'] == user_id]['article_id'].values.tolist()))\n",
    "\n",
    "    for user in user_id_list:\n",
    "        recs += df[df['user_id'] == user]['article_id'].values.tolist()\n",
    "\n",
    "    recs = list(set(recs))\n",
    "    recs = [ x for x in recs if x not in exp_article_ids ]\n",
    "\n",
    "    recs = df[df.article_id.isin(recs)][['article_id','title']].drop_duplicates().head(m)\n",
    "    rec_ids = recs['article_id'].values.tolist()\n",
    "    rec_names = recs['title'].values.tolist()\n",
    "    \n",
    "    return rec_ids, rec_names"
   ]
  },
  {
   "cell_type": "code",
   "execution_count": 35,
   "metadata": {},
   "outputs": [
    {
     "name": "stdout",
     "output_type": "stream",
     "text": [
      "The top 10 recommendations for user 20 are the following article ids:\n",
      "[1430.0, 1314.0, 1429.0, 1338.0, 1276.0, 1432.0, 593.0, 1185.0, 993.0, 14.0]\n",
      "\n",
      "The top 10 recommendations for user 20 are the following article names:\n",
      "['using pixiedust for fast, flexible, and easier data analysis and experimentation', 'healthcare python streaming application demo', 'use deep learning for image classification', 'ml optimization using cognitive assistant', 'deploy your python model as a restful api', 'visualize data with the matplotlib library', 'upload files to ibm data science experience using the command line', 'classify tumors with machine learning', 'configuring the apache spark sql context', 'got zip code data? prep it for analytics. – ibm watson data lab – medium']\n"
     ]
    }
   ],
   "source": [
    "# Quick spot check - don't change this code - just use it to test your functions\n",
    "rec_ids, rec_names = user_user_recs_part2(20, 10)\n",
    "print(\"The top 10 recommendations for user 20 are the following article ids:\")\n",
    "print(rec_ids)\n",
    "print()\n",
    "print(\"The top 10 recommendations for user 20 are the following article names:\")\n",
    "print(rec_names)"
   ]
  },
  {
   "cell_type": "markdown",
   "metadata": {},
   "source": [
    "`5.` Use your functions from above to correctly fill in the solutions to the dictionary below.  Then test your dictionary against the solution.  Provide the code you need to answer each following the comments below."
   ]
  },
  {
   "cell_type": "code",
   "execution_count": 36,
   "metadata": {},
   "outputs": [],
   "source": [
    "### Tests with a dictionary of results\n",
    "\n",
    "user1_most_sim = get_top_sorted_users(1)['neighbor_id'].head(1).values[0]# Find the user that is most similar to user 1 \n",
    "user131_10th_sim = get_top_sorted_users(131)['neighbor_id'].head(10).values[-1]# Find the 10th most similar user to user 131"
   ]
  },
  {
   "cell_type": "code",
   "execution_count": 38,
   "metadata": {},
   "outputs": [
    {
     "data": {
      "text/html": [
       "<div>\n",
       "<style scoped>\n",
       "    .dataframe tbody tr th:only-of-type {\n",
       "        vertical-align: middle;\n",
       "    }\n",
       "\n",
       "    .dataframe tbody tr th {\n",
       "        vertical-align: top;\n",
       "    }\n",
       "\n",
       "    .dataframe thead th {\n",
       "        text-align: right;\n",
       "    }\n",
       "</style>\n",
       "<table border=\"1\" class=\"dataframe\">\n",
       "  <thead>\n",
       "    <tr style=\"text-align: right;\">\n",
       "      <th></th>\n",
       "      <th>neighbor_id</th>\n",
       "      <th>similarity</th>\n",
       "      <th>num_interactions</th>\n",
       "    </tr>\n",
       "  </thead>\n",
       "  <tbody>\n",
       "    <tr>\n",
       "      <th>0</th>\n",
       "      <td>3933</td>\n",
       "      <td>35</td>\n",
       "      <td>45</td>\n",
       "    </tr>\n",
       "    <tr>\n",
       "      <th>1</th>\n",
       "      <td>23</td>\n",
       "      <td>17</td>\n",
       "      <td>364</td>\n",
       "    </tr>\n",
       "    <tr>\n",
       "      <th>2</th>\n",
       "      <td>3782</td>\n",
       "      <td>17</td>\n",
       "      <td>363</td>\n",
       "    </tr>\n",
       "    <tr>\n",
       "      <th>3</th>\n",
       "      <td>203</td>\n",
       "      <td>15</td>\n",
       "      <td>160</td>\n",
       "    </tr>\n",
       "    <tr>\n",
       "      <th>4</th>\n",
       "      <td>4459</td>\n",
       "      <td>15</td>\n",
       "      <td>158</td>\n",
       "    </tr>\n",
       "    <tr>\n",
       "      <th>5</th>\n",
       "      <td>131</td>\n",
       "      <td>14</td>\n",
       "      <td>145</td>\n",
       "    </tr>\n",
       "    <tr>\n",
       "      <th>6</th>\n",
       "      <td>3870</td>\n",
       "      <td>14</td>\n",
       "      <td>144</td>\n",
       "    </tr>\n",
       "    <tr>\n",
       "      <th>7</th>\n",
       "      <td>46</td>\n",
       "      <td>13</td>\n",
       "      <td>63</td>\n",
       "    </tr>\n",
       "    <tr>\n",
       "      <th>8</th>\n",
       "      <td>4201</td>\n",
       "      <td>13</td>\n",
       "      <td>61</td>\n",
       "    </tr>\n",
       "    <tr>\n",
       "      <th>9</th>\n",
       "      <td>49</td>\n",
       "      <td>12</td>\n",
       "      <td>147</td>\n",
       "    </tr>\n",
       "  </tbody>\n",
       "</table>\n",
       "</div>"
      ],
      "text/plain": [
       "   neighbor_id  similarity  num_interactions\n",
       "0         3933          35                45\n",
       "1           23          17               364\n",
       "2         3782          17               363\n",
       "3          203          15               160\n",
       "4         4459          15               158\n",
       "5          131          14               145\n",
       "6         3870          14               144\n",
       "7           46          13                63\n",
       "8         4201          13                61\n",
       "9           49          12               147"
      ]
     },
     "execution_count": 38,
     "metadata": {},
     "output_type": "execute_result"
    }
   ],
   "source": [
    "get_top_sorted_users(1).head(n=10)"
   ]
  },
  {
   "cell_type": "code",
   "execution_count": 39,
   "metadata": {},
   "outputs": [
    {
     "data": {
      "text/html": [
       "<div>\n",
       "<style scoped>\n",
       "    .dataframe tbody tr th:only-of-type {\n",
       "        vertical-align: middle;\n",
       "    }\n",
       "\n",
       "    .dataframe tbody tr th {\n",
       "        vertical-align: top;\n",
       "    }\n",
       "\n",
       "    .dataframe thead th {\n",
       "        text-align: right;\n",
       "    }\n",
       "</style>\n",
       "<table border=\"1\" class=\"dataframe\">\n",
       "  <thead>\n",
       "    <tr style=\"text-align: right;\">\n",
       "      <th></th>\n",
       "      <th>neighbor_id</th>\n",
       "      <th>similarity</th>\n",
       "      <th>num_interactions</th>\n",
       "    </tr>\n",
       "  </thead>\n",
       "  <tbody>\n",
       "    <tr>\n",
       "      <th>0</th>\n",
       "      <td>3870</td>\n",
       "      <td>74</td>\n",
       "      <td>144</td>\n",
       "    </tr>\n",
       "    <tr>\n",
       "      <th>1</th>\n",
       "      <td>3782</td>\n",
       "      <td>39</td>\n",
       "      <td>363</td>\n",
       "    </tr>\n",
       "    <tr>\n",
       "      <th>2</th>\n",
       "      <td>23</td>\n",
       "      <td>38</td>\n",
       "      <td>364</td>\n",
       "    </tr>\n",
       "    <tr>\n",
       "      <th>3</th>\n",
       "      <td>203</td>\n",
       "      <td>33</td>\n",
       "      <td>160</td>\n",
       "    </tr>\n",
       "    <tr>\n",
       "      <th>4</th>\n",
       "      <td>4459</td>\n",
       "      <td>33</td>\n",
       "      <td>158</td>\n",
       "    </tr>\n",
       "    <tr>\n",
       "      <th>5</th>\n",
       "      <td>98</td>\n",
       "      <td>29</td>\n",
       "      <td>170</td>\n",
       "    </tr>\n",
       "    <tr>\n",
       "      <th>6</th>\n",
       "      <td>3764</td>\n",
       "      <td>29</td>\n",
       "      <td>169</td>\n",
       "    </tr>\n",
       "    <tr>\n",
       "      <th>7</th>\n",
       "      <td>49</td>\n",
       "      <td>29</td>\n",
       "      <td>147</td>\n",
       "    </tr>\n",
       "    <tr>\n",
       "      <th>8</th>\n",
       "      <td>3697</td>\n",
       "      <td>29</td>\n",
       "      <td>145</td>\n",
       "    </tr>\n",
       "    <tr>\n",
       "      <th>9</th>\n",
       "      <td>242</td>\n",
       "      <td>25</td>\n",
       "      <td>148</td>\n",
       "    </tr>\n",
       "  </tbody>\n",
       "</table>\n",
       "</div>"
      ],
      "text/plain": [
       "   neighbor_id  similarity  num_interactions\n",
       "0         3870          74               144\n",
       "1         3782          39               363\n",
       "2           23          38               364\n",
       "3          203          33               160\n",
       "4         4459          33               158\n",
       "5           98          29               170\n",
       "6         3764          29               169\n",
       "7           49          29               147\n",
       "8         3697          29               145\n",
       "9          242          25               148"
      ]
     },
     "execution_count": 39,
     "metadata": {},
     "output_type": "execute_result"
    }
   ],
   "source": [
    "get_top_sorted_users(131).head(n=10)"
   ]
  },
  {
   "cell_type": "code",
   "execution_count": 40,
   "metadata": {},
   "outputs": [
    {
     "name": "stdout",
     "output_type": "stream",
     "text": [
      "This all looks good!  Nice job!\n"
     ]
    }
   ],
   "source": [
    "## Dictionary Test Here\n",
    "sol_5_dict = {\n",
    "    'The user that is most similar to user 1.': user1_most_sim, \n",
    "    'The user that is the 10th most similar to user 131': user131_10th_sim,\n",
    "}\n",
    "\n",
    "t.sol_5_test(sol_5_dict)"
   ]
  },
  {
   "cell_type": "markdown",
   "metadata": {},
   "source": [
    "`6.` If we were given a new user, which of the above functions would you be able to use to make recommendations?  Explain.  Can you think of a better way we might make recommendations?  Use the cell below to explain a better method for new users."
   ]
  },
  {
   "cell_type": "markdown",
   "metadata": {},
   "source": [
    "We can use techniques like rank based recommendations for new users. In that way, we will recommend new users with the most popular articles. This is also the common experience when we use new websites for the first time. Often, websites like twitter or facebook will recommend us the trending news/topics. Alternatively, websites like Medium may want us to select interested genres/topics first, then it's more like a combination of rank based and knowledge based recommendation engine. "
   ]
  },
  {
   "cell_type": "markdown",
   "metadata": {},
   "source": [
    "**Provide your response here.**"
   ]
  },
  {
   "cell_type": "markdown",
   "metadata": {},
   "source": [
    "`7.` Using your existing functions, provide the top 10 recommended articles you would provide for the a new user below.  You can test your function against our thoughts to make sure we are all on the same page with how we might make a recommendation."
   ]
  },
  {
   "cell_type": "code",
   "execution_count": 41,
   "metadata": {},
   "outputs": [
    {
     "data": {
      "text/plain": [
       "[1429.0,\n",
       " 1330.0,\n",
       " 1431.0,\n",
       " 1427.0,\n",
       " 1364.0,\n",
       " 1314.0,\n",
       " 1293.0,\n",
       " 1170.0,\n",
       " 1162.0,\n",
       " 1304.0]"
      ]
     },
     "execution_count": 41,
     "metadata": {},
     "output_type": "execute_result"
    }
   ],
   "source": [
    "new_user = '0.0'\n",
    "\n",
    "# What would your recommendations be for this new user '0.0'?  As a new user, they have no observed articles.\n",
    "# Provide a list of the top 10 article ids you would give to \n",
    "new_user_recs = get_top_article_ids(10)# Your recommendations here\n",
    "new_user_recs"
   ]
  },
  {
   "cell_type": "code",
   "execution_count": 42,
   "metadata": {},
   "outputs": [
    {
     "name": "stdout",
     "output_type": "stream",
     "text": [
      "That's right!  Nice job!\n"
     ]
    }
   ],
   "source": [
    "assert set(new_user_recs) == set([1314.0,1429.0,1293.0,1427.0,1162.0,1364.0,1304.0,1170.0,1431.0,1330.0]), \"Oops!  It makes sense that in this case we would want to recommend the most popular articles, because we don't know anything about these users.\"\n",
    "\n",
    "print(\"That's right!  Nice job!\")"
   ]
  },
  {
   "cell_type": "markdown",
   "metadata": {},
   "source": [
    "<a class=\"anchor\" id=\"Content-Recs\">Part IV: Content Based Recommendations</a>\n",
    "\n",
    "Another method we might use to make recommendations is to perform a ranking of the highest ranked articles associated with some term.  You might consider content to be the **doc_body**, **doc_description**, or **doc_full_name**.  There isn't one way to create a content based recommendation, especially considering that each of these columns hold content related information.  \n",
    "\n",
    "`1.` Use the function body below to create a content based recommender.  Since there isn't one right answer for this recommendation tactic, no test functions are provided.  Feel free to change the function inputs if you decide you want to try a method that requires more input values.  The input values are currently set with one idea in mind that you may use to make content based recommendations.  One additional idea is that you might want to choose the most popular recommendations that meet your 'content criteria', but again, there is a lot of flexibility in how you might make these recommendations."
   ]
  },
  {
   "cell_type": "code",
   "execution_count": 40,
   "metadata": {},
   "outputs": [],
   "source": [
    "def make_content_recs():\n",
    "    '''\n",
    "    INPUT:\n",
    "    \n",
    "    OUTPUT:\n",
    "    \n",
    "    '''"
   ]
  },
  {
   "cell_type": "markdown",
   "metadata": {},
   "source": [
    "`2.` Now that you have put together your content-based recommendation system, use the cell below to write a summary explaining how your content based recommender works.  Do you see any possible improvements that could be made to your function?  Is there anything novel about your content based recommender?\n",
    "\n",
    "### This part is NOT REQUIRED to pass this project.  However, you may choose to take this on as an extra way to show off your skills."
   ]
  },
  {
   "cell_type": "markdown",
   "metadata": {},
   "source": [
    "**Write an explanation of your content based recommendation system here.**"
   ]
  },
  {
   "cell_type": "markdown",
   "metadata": {},
   "source": [
    "`3.` Use your content-recommendation system to make recommendations for the below scenarios based on the comments.  Again no tests are provided here, because there isn't one right answer that could be used to find these content based recommendations.\n",
    "\n",
    "### This part is NOT REQUIRED to pass this project.  However, you may choose to take this on as an extra way to show off your skills."
   ]
  },
  {
   "cell_type": "code",
   "execution_count": 41,
   "metadata": {},
   "outputs": [],
   "source": [
    "# make recommendations for a brand new user\n",
    "\n",
    "\n",
    "# make a recommendations for a user who only has interacted with article id '1427.0'\n",
    "\n"
   ]
  },
  {
   "cell_type": "markdown",
   "metadata": {},
   "source": [
    "### <a class=\"anchor\" id=\"Matrix-Fact\">Part V: Matrix Factorization</a>\n",
    "\n",
    "In this part of the notebook, you will build use matrix factorization to make article recommendations to the users on the IBM Watson Studio platform.\n",
    "\n",
    "`1.` You should have already created a **user_item** matrix above in **question 1** of **Part III** above.  This first question here will just require that you run the cells to get things set up for the rest of **Part V** of the notebook. "
   ]
  },
  {
   "cell_type": "code",
   "execution_count": 42,
   "metadata": {},
   "outputs": [],
   "source": [
    "# Load the matrix here\n",
    "user_item_matrix = pd.read_pickle('user_item_matrix.p')"
   ]
  },
  {
   "cell_type": "code",
   "execution_count": 43,
   "metadata": {},
   "outputs": [
    {
     "data": {
      "text/html": [
       "<div>\n",
       "<style scoped>\n",
       "    .dataframe tbody tr th:only-of-type {\n",
       "        vertical-align: middle;\n",
       "    }\n",
       "\n",
       "    .dataframe tbody tr th {\n",
       "        vertical-align: top;\n",
       "    }\n",
       "\n",
       "    .dataframe thead th {\n",
       "        text-align: right;\n",
       "    }\n",
       "</style>\n",
       "<table border=\"1\" class=\"dataframe\">\n",
       "  <thead>\n",
       "    <tr style=\"text-align: right;\">\n",
       "      <th>article_id</th>\n",
       "      <th>0.0</th>\n",
       "      <th>100.0</th>\n",
       "      <th>1000.0</th>\n",
       "      <th>1004.0</th>\n",
       "      <th>1006.0</th>\n",
       "      <th>1008.0</th>\n",
       "      <th>101.0</th>\n",
       "      <th>1014.0</th>\n",
       "      <th>1015.0</th>\n",
       "      <th>1016.0</th>\n",
       "      <th>...</th>\n",
       "      <th>977.0</th>\n",
       "      <th>98.0</th>\n",
       "      <th>981.0</th>\n",
       "      <th>984.0</th>\n",
       "      <th>985.0</th>\n",
       "      <th>986.0</th>\n",
       "      <th>990.0</th>\n",
       "      <th>993.0</th>\n",
       "      <th>996.0</th>\n",
       "      <th>997.0</th>\n",
       "    </tr>\n",
       "    <tr>\n",
       "      <th>user_id</th>\n",
       "      <th></th>\n",
       "      <th></th>\n",
       "      <th></th>\n",
       "      <th></th>\n",
       "      <th></th>\n",
       "      <th></th>\n",
       "      <th></th>\n",
       "      <th></th>\n",
       "      <th></th>\n",
       "      <th></th>\n",
       "      <th></th>\n",
       "      <th></th>\n",
       "      <th></th>\n",
       "      <th></th>\n",
       "      <th></th>\n",
       "      <th></th>\n",
       "      <th></th>\n",
       "      <th></th>\n",
       "      <th></th>\n",
       "      <th></th>\n",
       "      <th></th>\n",
       "    </tr>\n",
       "  </thead>\n",
       "  <tbody>\n",
       "    <tr>\n",
       "      <th>1</th>\n",
       "      <td>0.0</td>\n",
       "      <td>0.0</td>\n",
       "      <td>0.0</td>\n",
       "      <td>0.0</td>\n",
       "      <td>0.0</td>\n",
       "      <td>0.0</td>\n",
       "      <td>0.0</td>\n",
       "      <td>0.0</td>\n",
       "      <td>0.0</td>\n",
       "      <td>0.0</td>\n",
       "      <td>...</td>\n",
       "      <td>0.0</td>\n",
       "      <td>0.0</td>\n",
       "      <td>1.0</td>\n",
       "      <td>0.0</td>\n",
       "      <td>0.0</td>\n",
       "      <td>0.0</td>\n",
       "      <td>0.0</td>\n",
       "      <td>0.0</td>\n",
       "      <td>0.0</td>\n",
       "      <td>0.0</td>\n",
       "    </tr>\n",
       "    <tr>\n",
       "      <th>2</th>\n",
       "      <td>0.0</td>\n",
       "      <td>0.0</td>\n",
       "      <td>0.0</td>\n",
       "      <td>0.0</td>\n",
       "      <td>0.0</td>\n",
       "      <td>0.0</td>\n",
       "      <td>0.0</td>\n",
       "      <td>0.0</td>\n",
       "      <td>0.0</td>\n",
       "      <td>0.0</td>\n",
       "      <td>...</td>\n",
       "      <td>0.0</td>\n",
       "      <td>0.0</td>\n",
       "      <td>0.0</td>\n",
       "      <td>0.0</td>\n",
       "      <td>0.0</td>\n",
       "      <td>0.0</td>\n",
       "      <td>0.0</td>\n",
       "      <td>0.0</td>\n",
       "      <td>0.0</td>\n",
       "      <td>0.0</td>\n",
       "    </tr>\n",
       "    <tr>\n",
       "      <th>3</th>\n",
       "      <td>0.0</td>\n",
       "      <td>0.0</td>\n",
       "      <td>0.0</td>\n",
       "      <td>0.0</td>\n",
       "      <td>0.0</td>\n",
       "      <td>0.0</td>\n",
       "      <td>0.0</td>\n",
       "      <td>0.0</td>\n",
       "      <td>0.0</td>\n",
       "      <td>0.0</td>\n",
       "      <td>...</td>\n",
       "      <td>1.0</td>\n",
       "      <td>0.0</td>\n",
       "      <td>0.0</td>\n",
       "      <td>0.0</td>\n",
       "      <td>0.0</td>\n",
       "      <td>0.0</td>\n",
       "      <td>0.0</td>\n",
       "      <td>0.0</td>\n",
       "      <td>0.0</td>\n",
       "      <td>0.0</td>\n",
       "    </tr>\n",
       "    <tr>\n",
       "      <th>4</th>\n",
       "      <td>0.0</td>\n",
       "      <td>0.0</td>\n",
       "      <td>0.0</td>\n",
       "      <td>0.0</td>\n",
       "      <td>0.0</td>\n",
       "      <td>0.0</td>\n",
       "      <td>0.0</td>\n",
       "      <td>0.0</td>\n",
       "      <td>0.0</td>\n",
       "      <td>0.0</td>\n",
       "      <td>...</td>\n",
       "      <td>0.0</td>\n",
       "      <td>0.0</td>\n",
       "      <td>0.0</td>\n",
       "      <td>0.0</td>\n",
       "      <td>0.0</td>\n",
       "      <td>0.0</td>\n",
       "      <td>0.0</td>\n",
       "      <td>0.0</td>\n",
       "      <td>0.0</td>\n",
       "      <td>0.0</td>\n",
       "    </tr>\n",
       "    <tr>\n",
       "      <th>5</th>\n",
       "      <td>0.0</td>\n",
       "      <td>0.0</td>\n",
       "      <td>0.0</td>\n",
       "      <td>0.0</td>\n",
       "      <td>0.0</td>\n",
       "      <td>0.0</td>\n",
       "      <td>0.0</td>\n",
       "      <td>0.0</td>\n",
       "      <td>0.0</td>\n",
       "      <td>0.0</td>\n",
       "      <td>...</td>\n",
       "      <td>0.0</td>\n",
       "      <td>0.0</td>\n",
       "      <td>0.0</td>\n",
       "      <td>0.0</td>\n",
       "      <td>0.0</td>\n",
       "      <td>0.0</td>\n",
       "      <td>0.0</td>\n",
       "      <td>0.0</td>\n",
       "      <td>0.0</td>\n",
       "      <td>0.0</td>\n",
       "    </tr>\n",
       "  </tbody>\n",
       "</table>\n",
       "<p>5 rows × 714 columns</p>\n",
       "</div>"
      ],
      "text/plain": [
       "article_id  0.0  100.0  1000.0  1004.0  1006.0  1008.0  101.0  1014.0  1015.0  \\\n",
       "user_id                                                                         \n",
       "1           0.0    0.0     0.0     0.0     0.0     0.0    0.0     0.0     0.0   \n",
       "2           0.0    0.0     0.0     0.0     0.0     0.0    0.0     0.0     0.0   \n",
       "3           0.0    0.0     0.0     0.0     0.0     0.0    0.0     0.0     0.0   \n",
       "4           0.0    0.0     0.0     0.0     0.0     0.0    0.0     0.0     0.0   \n",
       "5           0.0    0.0     0.0     0.0     0.0     0.0    0.0     0.0     0.0   \n",
       "\n",
       "article_id  1016.0  ...    977.0  98.0  981.0  984.0  985.0  986.0  990.0  \\\n",
       "user_id             ...                                                     \n",
       "1              0.0  ...      0.0   0.0    1.0    0.0    0.0    0.0    0.0   \n",
       "2              0.0  ...      0.0   0.0    0.0    0.0    0.0    0.0    0.0   \n",
       "3              0.0  ...      1.0   0.0    0.0    0.0    0.0    0.0    0.0   \n",
       "4              0.0  ...      0.0   0.0    0.0    0.0    0.0    0.0    0.0   \n",
       "5              0.0  ...      0.0   0.0    0.0    0.0    0.0    0.0    0.0   \n",
       "\n",
       "article_id  993.0  996.0  997.0  \n",
       "user_id                          \n",
       "1             0.0    0.0    0.0  \n",
       "2             0.0    0.0    0.0  \n",
       "3             0.0    0.0    0.0  \n",
       "4             0.0    0.0    0.0  \n",
       "5             0.0    0.0    0.0  \n",
       "\n",
       "[5 rows x 714 columns]"
      ]
     },
     "execution_count": 43,
     "metadata": {},
     "output_type": "execute_result"
    }
   ],
   "source": [
    "# quick look at the matrix\n",
    "user_item_matrix.head()"
   ]
  },
  {
   "cell_type": "markdown",
   "metadata": {},
   "source": [
    "`2.` In this situation, you can use Singular Value Decomposition from [numpy](https://docs.scipy.org/doc/numpy-1.14.0/reference/generated/numpy.linalg.svd.html) on the user-item matrix.  Use the cell to perform SVD, and explain why this is different than in the lesson."
   ]
  },
  {
   "cell_type": "code",
   "execution_count": 44,
   "metadata": {},
   "outputs": [],
   "source": [
    "# Perform SVD on the User-Item Matrix Here\n",
    "\n",
    "u, s, vt = np.linalg.svd(user_item_matrix)# use the built in to get the three matrices"
   ]
  },
  {
   "cell_type": "markdown",
   "metadata": {},
   "source": [
    "**The matrices have larger size compared to the ones in tutorial.** \n",
    "- Since the user-item_matrix is really sparse in a real life situation, we probably wanna switch from traditional SVD method to the Funk SVD method which performs better on a sparse dataset like the one in our case. \n",
    "- However, by performing a normal SVD, we can have a sense of how well our recommendation engine performs before hand. SVD can allow us to predict a rating for every user-item pair.Through the ratings, we pick the top rated items and recommend to our users. "
   ]
  },
  {
   "cell_type": "markdown",
   "metadata": {},
   "source": [
    "`3.` Now for the tricky part, how do we choose the number of latent features to use?  Running the below cell, you can see that as the number of latent features increases, we obtain a lower error rate on making predictions for the 1 and 0 values in the user-item matrix.  Run the cell below to get an idea of how the accuracy improves as we increase the number of latent features."
   ]
  },
  {
   "cell_type": "code",
   "execution_count": 45,
   "metadata": {},
   "outputs": [
    {
     "data": {
      "image/png": "[encoded data removed]",
      "text/plain": [
       "<matplotlib.figure.Figure at 0x7f7e8bfa13c8>"
      ]
     },
     "metadata": {
      "needs_background": "light"
     },
     "output_type": "display_data"
    }
   ],
   "source": [
    "num_latent_feats = np.arange(10,700+10,20)\n",
    "sum_errs = []\n",
    "\n",
    "for k in num_latent_feats:\n",
    "    # restructure with k latent features\n",
    "    s_new, u_new, vt_new = np.diag(s[:k]), u[:, :k], vt[:k, :]\n",
    "    \n",
    "    # take dot product\n",
    "    user_item_est = np.around(np.dot(np.dot(u_new, s_new), vt_new))\n",
    "    \n",
    "    # compute error for each prediction to actual value\n",
    "    diffs = np.subtract(user_item_matrix, user_item_est)\n",
    "    \n",
    "    # total errors and keep track of them\n",
    "    err = np.sum(np.sum(np.abs(diffs)))\n",
    "    sum_errs.append(err)\n",
    "    \n",
    "    \n",
    "plt.plot(num_latent_feats, 1 - np.array(sum_errs)/df.shape[0]);\n",
    "plt.xlabel('Number of Latent Features');\n",
    "plt.ylabel('Accuracy');\n",
    "plt.title('Accuracy vs. Number of Latent Features');"
   ]
  },
  {
   "cell_type": "markdown",
   "metadata": {},
   "source": [
    "`4.` From the above, we can't really be sure how many features to use, because simply having a better way to predict the 1's and 0's of the matrix doesn't exactly give us an indication of if we are able to make good recommendations.  Instead, we might split our dataset into a training and test set of data, as shown in the cell below.  \n",
    "\n",
    "Use the code from question 3 to understand the impact on accuracy of the training and test sets of data with different numbers of latent features. Using the split below: \n",
    "\n",
    "* How many users can we make predictions for in the test set?  \n",
    "* How many users are we not able to make predictions for because of the cold start problem?\n",
    "* How many articles can we make predictions for in the test set?  \n",
    "* How many articles are we not able to make predictions for because of the cold start problem?"
   ]
  },
  {
   "cell_type": "code",
   "execution_count": 46,
   "metadata": {},
   "outputs": [],
   "source": [
    "df_train = df.head(40000)\n",
    "df_test = df.tail(5993)\n",
    "\n",
    "def create_test_and_train_user_item(df_train, df_test):\n",
    "    '''\n",
    "    INPUT:\n",
    "    df_train - training dataframe\n",
    "    df_test - test dataframe\n",
    "    \n",
    "    OUTPUT:\n",
    "    user_item_train - a user-item matrix of the training dataframe \n",
    "                      (unique users for each row and unique articles for each column)\n",
    "    user_item_test - a user-item matrix of the testing dataframe \n",
    "                    (unique users for each row and unique articles for each column)\n",
    "    test_idx - all of the test user ids\n",
    "    test_arts - all of the test article ids\n",
    "    \n",
    "    '''\n",
    "    # Your code here\n",
    "    user_item_train = create_user_item_matrix(df_train)\n",
    "    user_item_test = create_user_item_matrix(df_test)\n",
    "    test_idx = df_test['user_id'].unique().tolist()\n",
    "    test_arts = df_test['article_id'].unique().tolist()\n",
    "    \n",
    "    return user_item_train, user_item_test, test_idx, test_arts\n",
    "\n",
    "user_item_train, user_item_test, test_idx, test_arts = create_test_and_train_user_item(df_train, df_test)"
   ]
  },
  {
   "cell_type": "code",
   "execution_count": 47,
   "metadata": {},
   "outputs": [
    {
     "name": "stdout",
     "output_type": "stream",
     "text": [
      "Awesome job!  That's right!  All of the test movies are in the training data, but there are only 20 test users that were also in the training set.  All of the other users that are in the test set we have no data on.  Therefore, we cannot make predictions for these users using SVD.\n"
     ]
    }
   ],
   "source": [
    "# Replace the values in the dictionary below\n",
    "a = 662 \n",
    "b = 574 \n",
    "c = 20 \n",
    "d = 0 \n",
    "\n",
    "\n",
    "sol_4_dict = {\n",
    "     'How many users can we make predictions for in the test set?': c, \n",
    "    'How many users in the test set are we not able to make predictions for because of the cold start problem?': a, \n",
    "    'How many movies can we make predictions for in the test set?': b,\n",
    "    'How many movies in the test set are we not able to make predictions for because of the cold start problem?': d \n",
    "}\n",
    "\n",
    "t.sol_4_test(sol_4_dict)"
   ]
  },
  {
   "cell_type": "markdown",
   "metadata": {},
   "source": [
    "`5.` Now use the **user_item_train** dataset from above to find U, S, and V transpose using SVD. Then find the subset of rows in the **user_item_test** dataset that you can predict using this matrix decomposition with different numbers of latent features to see how many features makes sense to keep based on the accuracy on the test data. This will require combining what was done in questions `2` - `4`.\n",
    "\n",
    "Use the cells below to explore how well SVD works towards making predictions for recommendations on the test data.  "
   ]
  },
  {
   "cell_type": "code",
   "execution_count": 48,
   "metadata": {},
   "outputs": [],
   "source": [
    "# fit SVD on the user_item_train matrix\n",
    "u_train, s_train, vt_train = np.linalg.svd(user_item_train)# fit svd similar to above then use the cells below"
   ]
  },
  {
   "cell_type": "code",
   "execution_count": 49,
   "metadata": {},
   "outputs": [],
   "source": [
    "row_idxs = user_item_train.index.isin(test_idx)\n",
    "col_idxs = user_item_train.columns.isin(test_arts)\n",
    "u_test = u_train[row_idxs, :]\n",
    "vt_test = vt_train[:, col_idxs]"
   ]
  },
  {
   "cell_type": "code",
   "execution_count": 50,
   "metadata": {},
   "outputs": [
    {
     "data": {
      "image/png": "[encoded data removed]",
      "text/plain": [
       "<matplotlib.figure.Figure at 0x7f7e8a2176d8>"
      ]
     },
     "metadata": {
      "needs_background": "light"
     },
     "output_type": "display_data"
    }
   ],
   "source": [
    "# Use these cells to see how well you can use the training \n",
    "# decomposition to predict on test data\n",
    "\n",
    "num_latent_feats = np.arange(10,700+10,20)\n",
    "train_sum_errs = []\n",
    "test_sum_errs = []\n",
    "\n",
    "user_intersection_train_test = df_test[df_test['user_id'].isin(df_train['user_id'])].dropna()['user_id'].unique()\n",
    "user_intersection_train_test_matrix = user_item_test[user_item_test.index.isin(user_intersection_train_test)]\n",
    "\n",
    "for k in num_latent_feats:\n",
    "    # restructure latent features\n",
    "    s_train_new, u_train_new, vt_train_new = np.diag(s_train[:k]), u_train[:, :k], vt_train[:k, :]\n",
    "    u_test_new, vt_test_new = u_test[:, :k], vt_test[:k, :]\n",
    "    \n",
    "    # compute dot product\n",
    "    user_item_train_new = np.around(np.dot(np.dot(u_train_new, s_train_new), vt_train_new))\n",
    "    user_item_test_new = np.around(np.dot(np.dot(u_test_new, s_train_new), vt_test_new))\n",
    "    \n",
    "    # compute error for each prediction \n",
    "    train_err = np.subtract(user_item_train, user_item_train_new)\n",
    "    test_err = np.subtract(user_intersection_train_test_matrix, user_item_test_new)\n",
    "    \n",
    "    # total errors \n",
    "    train_err = np.sum(np.sum(np.abs(train_err)))\n",
    "    test_err = np.sum(np.sum(np.abs(test_err)))\n",
    "    train_sum_errs.append(train_err)\n",
    "    test_sum_errs.append(test_err)\n",
    "    \n",
    "plt.plot(num_latent_feats, 1 - np.array(train_sum_errs)/(user_item_train.shape[0] \n",
    "                                                         * user_intersection_train_test_matrix.shape[1]), label='Training data')\n",
    "plt.plot(num_latent_feats, 1 - np.array(test_sum_errs)/(user_intersection_train_test_matrix.shape[0] \n",
    "                                                        * user_intersection_train_test_matrix.shape[1]), label='Testing data')\n",
    "plt.xlabel('No. of Latent Features')\n",
    "plt.ylabel('Accuracy')\n",
    "plt.legend()\n",
    "plt.title('Training/Test Accuracy vs. No. of Latent Features')\n",
    "plt.show()"
   ]
  },
  {
   "cell_type": "markdown",
   "metadata": {
    "collapsed": true
   },
   "source": [
    "`6.` Use the cell below to comment on the results you found in the previous question. Given the circumstances of your results, discuss what you might do to determine if the recommendations you make with any of the above recommendation systems are an improvement to how users currently find articles? "
   ]
  },
  {
   "cell_type": "markdown",
   "metadata": {},
   "source": [
    "**Your response here.**\n",
    "\n",
    "- The gap between training accuracy and test accuracy curves grows larger as we increase the number of latent features. This means that the large number of latent features would lead to an overfitting situation. Therefore, we might want to have a relative small number of latent features. \n",
    "\n",
    "- I believe it's an improvement after completing the above series of recommendation models. Step by step, started from a rank based system where we know nothing about the user, to a recommendation system that makes our recs more personalized to the user. To implement a test, we can start from an A/B test. It can help us see if our change on the design of recommendation systems has an impact on factors like the number of readers, ratings, or user active ratios. "
   ]
  },
  {
   "cell_type": "markdown",
   "metadata": {
    "collapsed": true
   },
   "source": [
    "<a id='conclusions'></a>\n",
    "### Extras\n",
    "Using your workbook, you could now save your recommendations for each user, develop a class to make new predictions and update your results, and make a flask app to deploy your results.  These tasks are beyond what is required for this project.  However, from what you learned in the lessons, you certainly capable of taking these tasks on to improve upon your work here!\n",
    "\n",
    "\n",
    "## Conclusion\n",
    "\n",
    "> Congratulations!  You have reached the end of the Recommendations with IBM project! \n",
    "\n",
    "> **Tip**: Once you are satisfied with your work here, check over your report to make sure that it is satisfies all the areas of the [rubric](https://review.udacity.com/#!/rubrics/2322/view). You should also probably remove all of the \"Tips\" like this one so that the presentation is as polished as possible.\n",
    "\n",
    "\n",
    "## Directions to Submit\n",
    "\n",
    "> Before you submit your project, you need to create a .html or .pdf version of this notebook in the workspace here. To do that, run the code cell below. If it worked correctly, you should get a return code of 0, and you should see the generated .html file in the workspace directory (click on the orange Jupyter icon in the upper left).\n",
    "\n",
    "> Alternatively, you can download this report as .html via the **File** > **Download as** submenu, and then manually upload it into the workspace directory by clicking on the orange Jupyter icon in the upper left, then using the Upload button.\n",
    "\n",
    "> Once you've done this, you can submit your project by clicking on the \"Submit Project\" button in the lower right here. This will create and submit a zip file with this .ipynb doc and the .html or .pdf version you created. Congratulations! "
   ]
  },
  {
   "cell_type": "code",
   "execution_count": 51,
   "metadata": {},
   "outputs": [
    {
     "data": {
      "text/plain": [
       "0"
      ]
     },
     "execution_count": 51,
     "metadata": {},
     "output_type": "execute_result"
    }
   ],
   "source": [
    "from subprocess import call\n",
    "call(['python', '-m', 'nbconvert', 'Recommendations_with_IBM.ipynb'])"
   ]
  }
 ],
 "metadata": {
  "kernelspec": {
   "display_name": "Python 3",
   "language": "python",
   "name": "python3"
  },
  "language_info": {
   "codemirror_mode": {
    "name": "ipython",
    "version": 3
   },
   "file_extension": ".py",
   "mimetype": "text/x-python",
   "name": "python",
   "nbconvert_exporter": "python",
   "pygments_lexer": "ipython3",
   "version": "3.6.3"
  }
 },
 "nbformat": 4,
 "nbformat_minor": 2
}
